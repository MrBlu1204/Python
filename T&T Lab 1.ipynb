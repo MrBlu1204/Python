{
 "cells": [
  {
   "cell_type": "markdown",
   "metadata": {},
   "source": [
    "# T&T Lab 1- 18th December\n",
    "## Manish Ranjan Behera (1828249)"
   ]
  },
  {
   "cell_type": "code",
   "execution_count": 1,
   "metadata": {},
   "outputs": [
    {
     "name": "stdout",
     "output_type": "stream",
     "text": [
      "Hello World!\n"
     ]
    }
   ],
   "source": [
    "print(\"Hello World!\")"
   ]
  },
  {
   "cell_type": "code",
   "execution_count": 2,
   "metadata": {},
   "outputs": [
    {
     "name": "stdout",
     "output_type": "stream",
     "text": [
      "What is your name?\n",
      "Manish\n",
      "Hi, Manish\n"
     ]
    }
   ],
   "source": [
    "name=input('What is your name?\\n')\n",
    "print('Hi, %s' %name)"
   ]
  },
  {
   "cell_type": "code",
   "execution_count": 3,
   "metadata": {},
   "outputs": [
    {
     "name": "stdout",
     "output_type": "stream",
     "text": [
      "What is your last name?\n",
      "Behera\n",
      "Hello Mr. Behera\n"
     ]
    }
   ],
   "source": [
    "lName=input('What is your last name?\\n')\n",
    "print('Hello Mr. %s' %lName)"
   ]
  },
  {
   "cell_type": "code",
   "execution_count": 4,
   "metadata": {},
   "outputs": [
    {
     "name": "stdout",
     "output_type": "stream",
     "text": [
      "Input a Integer:7\n",
      "Input a Float:9.8\n",
      "7 9.8\n"
     ]
    }
   ],
   "source": [
    "x=int(input(\"Input a Integer:\"))\n",
    "y=float(input(\"Input a Float:\"))\n",
    "print (x,y)"
   ]
  },
  {
   "cell_type": "code",
   "execution_count": 5,
   "metadata": {},
   "outputs": [
    {
     "name": "stdout",
     "output_type": "stream",
     "text": [
      "Length of the Side: 4\n",
      "Radius of the Circle: 27\n",
      "Perimeter of Square is 16\n",
      "Area of Square is 16\n",
      "Perimeter of Circle is 169.56\n",
      "Area of Circle is 2289.06\n"
     ]
    }
   ],
   "source": [
    "side=int(input(\"Length of the Side: \"))\n",
    "radius=int(input(\"Radius of the Circle: \"))\n",
    "print('Perimeter of Square is %d'%(side*4))\n",
    "print('Area of Square is %d'%(side**2))\n",
    "print('Perimeter of Circle is %5.2f'%(2*3.14*radius))\n",
    "print('Area of Circle is %5.2f'%(3.14*radius**2))"
   ]
  },
  {
   "cell_type": "code",
   "execution_count": 6,
   "metadata": {},
   "outputs": [
    {
     "name": "stdout",
     "output_type": "stream",
     "text": [
      "Enter a number: 65\n",
      "Enter another number: 98\n",
      "65 98\n",
      "Swapping\n",
      "98 65\n"
     ]
    }
   ],
   "source": [
    "#swap\n",
    "a=int(input(\"Enter a number: \"))\n",
    "b=int(input(\"Enter another number: \"))\n",
    "print(a,b)\n",
    "temp=a\n",
    "a=b\n",
    "b=temp\n",
    "print(\"Swapping\")\n",
    "print(a,b)"
   ]
  },
  {
   "cell_type": "code",
   "execution_count": 7,
   "metadata": {},
   "outputs": [
    {
     "name": "stdout",
     "output_type": "stream",
     "text": [
      "Enter a number: 9\n",
      "Enter another number: 6\n",
      "9 is greater than 6\n"
     ]
    }
   ],
   "source": [
    "a=int(input(\"Enter a number: \"))\n",
    "b=int(input(\"Enter another number: \"))\n",
    "if a>b:\n",
    "    print(\"%d is greater than %d\" %(a,b))\n",
    "else:\n",
    "    print(\"%d is greater than %d\" %(b,a))"
   ]
  },
  {
   "cell_type": "code",
   "execution_count": 8,
   "metadata": {},
   "outputs": [
    {
     "name": "stdout",
     "output_type": "stream",
     "text": [
      "Enter a number: 8\n",
      "8 is even\n"
     ]
    }
   ],
   "source": [
    "a=int(input(\"Enter a number: \"))\n",
    "if a%2==0:\n",
    "    print(\"%d is even\" %a)\n",
    "else:\n",
    "    print(\"%d is odd\" %a)"
   ]
  },
  {
   "cell_type": "code",
   "execution_count": 9,
   "metadata": {},
   "outputs": [
    {
     "name": "stdout",
     "output_type": "stream",
     "text": [
      "Sum of list is 95\n"
     ]
    }
   ],
   "source": [
    "num=[1,7,9,5,2,1,13,57]\n",
    "sum=0\n",
    "for i in range(0,8):\n",
    "    sum = sum + num[i]\n",
    "print(\"Sum of list is %d\" %sum)"
   ]
  },
  {
   "cell_type": "code",
   "execution_count": 10,
   "metadata": {},
   "outputs": [
    {
     "name": "stdout",
     "output_type": "stream",
     "text": [
      "Sum of natural numbers is 120\n"
     ]
    }
   ],
   "source": [
    "sum=0\n",
    "i=1\n",
    "while (i<=15):\n",
    "    sum = sum + i\n",
    "    i=i+1\n",
    "print(\"Sum of natural numbers is %d\" %sum)"
   ]
  },
  {
   "cell_type": "code",
   "execution_count": 11,
   "metadata": {},
   "outputs": [
    {
     "name": "stdout",
     "output_type": "stream",
     "text": [
      "b\n",
      "e\n",
      "a\n",
      "u\n",
      "The End\n"
     ]
    }
   ],
   "source": [
    "for val in 'beautiful':\n",
    "    if val=='t':\n",
    "        break\n",
    "    print(val)\n",
    "        \n",
    "print('The End')"
   ]
  },
  {
   "cell_type": "code",
   "execution_count": 12,
   "metadata": {},
   "outputs": [
    {
     "name": "stdout",
     "output_type": "stream",
     "text": [
      "Enter a Year: 2020\n",
      "2020 is a leap year\n"
     ]
    }
   ],
   "source": [
    "year=int(input(\"Enter a Year: \"))\n",
    "if year%4==0:\n",
    "    print(\"%d is a leap year\" %year)\n",
    "else:\n",
    "    print(\"%d is not a leap year\" %year)"
   ]
  },
  {
   "cell_type": "code",
   "execution_count": 13,
   "metadata": {},
   "outputs": [
    {
     "name": "stdout",
     "output_type": "stream",
     "text": [
      "Enter a number: 54\n",
      "Enter another number: 23\n",
      "HCF of 54 and 23 is 1\n"
     ]
    }
   ],
   "source": [
    "#HCF\n",
    "a=int(input(\"Enter a number: \"))\n",
    "b=int(input(\"Enter another number: \"))\n",
    "if a>b:\n",
    "    min=b\n",
    "else:\n",
    "    min=a\n",
    "i=1\n",
    "hcf=i\n",
    "while(i<=min):\n",
    "    if(a%i==0 and b%i==0):\n",
    "        hcf=i\n",
    "    i=i+1\n",
    "print(\"HCF of %d and %d is %d\" %(a,b,hcf))"
   ]
  },
  {
   "cell_type": "markdown",
   "metadata": {},
   "source": [
    "# Assignment\n",
    "\n",
    "### WAP to find the first n Numbers of a fibbonaci series"
   ]
  },
  {
   "cell_type": "code",
   "execution_count": 14,
   "metadata": {},
   "outputs": [
    {
     "name": "stdout",
     "output_type": "stream",
     "text": [
      "Enter a Number: 10\n",
      "0 \n",
      "1 \n",
      "1 \n",
      "2 \n",
      "3 \n",
      "5 \n",
      "8 \n",
      "13 \n",
      "21 \n",
      "34 \n"
     ]
    }
   ],
   "source": [
    "fib=[0,1]\n",
    "n=int(input(\"Enter a Number: \"))\n",
    "for i in range(0,n):\n",
    "    if(i>1):\n",
    "        fib.append(fib[i-1]+fib[i-2])    \n",
    "    print(\"%d \"%fib[i])"
   ]
  },
  {
   "cell_type": "markdown",
   "metadata": {},
   "source": [
    "### WAP to evaluate y=x^n where n is a non-negative integer"
   ]
  },
  {
   "cell_type": "code",
   "execution_count": 15,
   "metadata": {},
   "outputs": [
    {
     "name": "stdout",
     "output_type": "stream",
     "text": [
      "Enter a Number: 5\n",
      "Enter the exponent: 6\n",
      "Result: 15625\n"
     ]
    }
   ],
   "source": [
    "x=int(input(\"Enter a Number: \"))\n",
    "n=int(input(\"Enter the exponent: \"))\n",
    "print(\"Result:\",x**n)"
   ]
  },
  {
   "cell_type": "markdown",
   "metadata": {},
   "source": [
    "### WAP to find the sum of the following series S = 1 + (1+2) + (1+2+3) + . . . . + (1+2+3+...+n)"
   ]
  },
  {
   "cell_type": "code",
   "execution_count": 16,
   "metadata": {},
   "outputs": [
    {
     "name": "stdout",
     "output_type": "stream",
     "text": [
      "Enter length of the series: 9\n",
      "1\n",
      "3\n",
      "6\n",
      "10\n",
      "15\n",
      "21\n",
      "28\n",
      "36\n",
      "45\n",
      "Sum of the Series: 165\n"
     ]
    }
   ],
   "source": [
    "value=0\n",
    "seriesSum=0\n",
    "series=[]\n",
    "n=int(input(\"Enter length of the series: \"))\n",
    "for i in range(0,n):\n",
    "    value=value+1+i\n",
    "    series.append(value)\n",
    "    seriesSum=seriesSum + value\n",
    "    print(series[i])\n",
    "print(\"Sum of the Series:\",seriesSum)"
   ]
  },
  {
   "cell_type": "markdown",
   "metadata": {},
   "source": [
    "### WAP for a menu driven calculator"
   ]
  },
  {
   "cell_type": "code",
   "execution_count": 17,
   "metadata": {},
   "outputs": [
    {
     "name": "stdout",
     "output_type": "stream",
     "text": [
      "Enter a number: 10\n",
      "Enter another number: 3\n",
      "Enter operation to perform: **\n",
      "10 ** 3 = 1000\n"
     ]
    }
   ],
   "source": [
    "a=int(input(\"Enter a number: \"))\n",
    "b=int(input(\"Enter another number: \"))\n",
    "op=input(\"Enter operation to perform: \")\n",
    "if(op=='+'):\n",
    "    c=a+b\n",
    "elif(op=='-'):\n",
    "    c=a-b\n",
    "elif(op=='*'):\n",
    "    c=a*b\n",
    "elif(op=='/'):\n",
    "    c=a/b\n",
    "elif(op=='%'):\n",
    "    c=a%b\n",
    "elif(op=='**'):\n",
    "    c=a**b\n",
    "else:\n",
    "    print(\"Invalid Input\")\n",
    "print(\"{} {} {} = {}\".format(a,op,b,c))\n"
   ]
  },
  {
   "cell_type": "markdown",
   "metadata": {},
   "source": [
    "### WAP to find the solution to the equation ax^2 + bx + c = 0 using if-else statement"
   ]
  },
  {
   "cell_type": "code",
   "execution_count": 18,
   "metadata": {},
   "outputs": [
    {
     "name": "stdout",
     "output_type": "stream",
     "text": [
      "Enter the value of a: 3\n",
      "Enter the value of b: 2\n",
      "Enter the value of c: 1\n",
      "3x^2 + 2x + 1 = 0 has no real roots\n"
     ]
    }
   ],
   "source": [
    "a=int(input(\"Enter the value of a: \"))\n",
    "b=int(input(\"Enter the value of b: \"))\n",
    "c=int(input(\"Enter the value of c: \"))\n",
    "d=b**2 - 4*a*c\n",
    "if(d>0):\n",
    "    print(\"Two Real and Distinct Roots\")\n",
    "    print(\"Roots of {}x^2 + {}x + {} = 0 are {} and {}\".format(a,b,c,((0-b)+(d**0.5))/2*a,((0-b)-(d**0.5))/2*a))\n",
    "elif(d==0):\n",
    "    print(\"Only One Root\")\n",
    "    print(\"Root of {}x^2 + {}x + {} = 0 is {}\".format(a,b,c,((0-b)+(d**0.5))/2*a))\n",
    "else:\n",
    "    print(\"{}x^2 + {}x + {} = 0 has no real roots\".format(a,b,c))"
   ]
  },
  {
   "cell_type": "code",
   "execution_count": null,
   "metadata": {},
   "outputs": [],
   "source": []
  }
 ],
 "metadata": {
  "kernelspec": {
   "display_name": "Python 3",
   "language": "python",
   "name": "python3"
  },
  "language_info": {
   "codemirror_mode": {
    "name": "ipython",
    "version": 3
   },
   "file_extension": ".py",
   "mimetype": "text/x-python",
   "name": "python",
   "nbconvert_exporter": "python",
   "pygments_lexer": "ipython3",
   "version": "3.8.5"
  }
 },
 "nbformat": 4,
 "nbformat_minor": 4
}
