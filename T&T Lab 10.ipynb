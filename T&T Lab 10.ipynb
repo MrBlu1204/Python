{
 "cells": [
  {
   "cell_type": "markdown",
   "id": "minimal-punishment",
   "metadata": {},
   "source": [
    "# T&T Lab 10 - 17th Feb\n",
    "## Manish Ranjan Behera (1828249)"
   ]
  },
  {
   "cell_type": "code",
   "execution_count": 1,
   "id": "dense-basic",
   "metadata": {},
   "outputs": [
    {
     "name": "stdout",
     "output_type": "stream",
     "text": [
      "{1, 2, 3, 5, 9, 77}\n"
     ]
    }
   ],
   "source": [
    "my_set = {1, 2, 3,5,9,77}\n",
    "print(my_set)"
   ]
  },
  {
   "cell_type": "code",
   "execution_count": 3,
   "id": "declared-cotton",
   "metadata": {},
   "outputs": [
    {
     "data": {
      "text/plain": [
       "set"
      ]
     },
     "execution_count": 3,
     "metadata": {},
     "output_type": "execute_result"
    }
   ],
   "source": [
    "my_set = set()\n",
    "type(my_set)"
   ]
  },
  {
   "cell_type": "code",
   "execution_count": 4,
   "id": "interested-title",
   "metadata": {},
   "outputs": [
    {
     "name": "stdout",
     "output_type": "stream",
     "text": [
      "{1, 2, 3, 4}\n"
     ]
    }
   ],
   "source": [
    "my_set = {1, 2, 3, 4, 3, 2}\n",
    "print(my_set)"
   ]
  },
  {
   "cell_type": "code",
   "execution_count": 5,
   "id": "fourth-desktop",
   "metadata": {},
   "outputs": [],
   "source": [
    "my_set.update([4, 5], {1, 6, 8})"
   ]
  },
  {
   "cell_type": "code",
   "execution_count": 8,
   "id": "novel-earth",
   "metadata": {},
   "outputs": [
    {
     "name": "stdout",
     "output_type": "stream",
     "text": [
      "{1, 2, 3, 4, 5, 6, 8, 'x'}\n"
     ]
    }
   ],
   "source": [
    "my_set.add('x')\n",
    "print(my_set)"
   ]
  },
  {
   "cell_type": "code",
   "execution_count": 10,
   "id": "strong-rainbow",
   "metadata": {},
   "outputs": [],
   "source": [
    "my_set.discard(4)"
   ]
  },
  {
   "cell_type": "code",
   "execution_count": 11,
   "id": "instructional-acting",
   "metadata": {},
   "outputs": [],
   "source": [
    "my_set.remove(6)"
   ]
  },
  {
   "cell_type": "code",
   "execution_count": 12,
   "id": "fabulous-howard",
   "metadata": {},
   "outputs": [
    {
     "data": {
      "text/plain": [
       "6"
      ]
     },
     "execution_count": 12,
     "metadata": {},
     "output_type": "execute_result"
    }
   ],
   "source": [
    "len(my_set)"
   ]
  },
  {
   "cell_type": "code",
   "execution_count": 13,
   "id": "capable-median",
   "metadata": {},
   "outputs": [
    {
     "name": "stdout",
     "output_type": "stream",
     "text": [
      "{1, 2, 3, 4, 5, 6, 7, 8}\n"
     ]
    }
   ],
   "source": [
    "A = {1, 2, 3, 4, 5}\n",
    "B = {4, 5, 6, 7, 8}\n",
    "print(A | B)"
   ]
  },
  {
   "cell_type": "code",
   "execution_count": 14,
   "id": "exact-citation",
   "metadata": {},
   "outputs": [
    {
     "name": "stdout",
     "output_type": "stream",
     "text": [
      "{4, 5}\n",
      "{1, 2, 3}\n",
      "{1, 2, 3, 6, 7, 8}\n"
     ]
    }
   ],
   "source": [
    "print(A & B)\n",
    "print(A - B)\n",
    "print(A ^ B)"
   ]
  },
  {
   "cell_type": "markdown",
   "id": "ahead-history",
   "metadata": {},
   "source": [
    "### Write a Python Program to remove an item from a set if it is present in the set"
   ]
  },
  {
   "cell_type": "code",
   "execution_count": 18,
   "id": "limiting-project",
   "metadata": {},
   "outputs": [
    {
     "name": "stdout",
     "output_type": "stream",
     "text": [
      "{32, 39, 11, 76, 77, 43, 51, 84, 87, 89, 93, 62}\n",
      "Enter item that has to be removed:67\n",
      "67 is not present in the set\n"
     ]
    }
   ],
   "source": [
    "from numpy import random\n",
    "numSet={random.randint(1,100) for x in range(1,15)}\n",
    "print(numSet)\n",
    "i=int(input(\"Enter item that has to be removed:\"))\n",
    "if i in numSet:\n",
    "    numSet.remove(i)\n",
    "    print(i,\"has been removed from the set\")\n",
    "else:\n",
    "    print(i,\"is not present in the set\")"
   ]
  },
  {
   "cell_type": "markdown",
   "id": "expected-priority",
   "metadata": {},
   "source": [
    "### Write a Python program to create an intersection of sets."
   ]
  },
  {
   "cell_type": "code",
   "execution_count": 35,
   "id": "proof-publicity",
   "metadata": {},
   "outputs": [
    {
     "name": "stdout",
     "output_type": "stream",
     "text": [
      "Set A: {36, 37, 7, 10, 76, 14, 15, 17, 18, 19, 23, 90, 27, 60}\n",
      "Set B: {96, 2, 35, 72, 9, 10, 77, 82, 20, 24, 89, 26, 88, 30}\n",
      "Intersection of Set A & Set B: {10}\n"
     ]
    }
   ],
   "source": [
    "from numpy import random\n",
    "setA={random.randint(1,100) for x in range(1,15)}\n",
    "setB={random.randint(1,100) for x in range(1,15)}\n",
    "print(\"Set A:\",setA)\n",
    "print(\"Set B:\",setB)\n",
    "print(\"Intersection of Set A & Set B:\", (setA & setB))"
   ]
  },
  {
   "cell_type": "markdown",
   "id": "documentary-forge",
   "metadata": {},
   "source": [
    "### Write a Python program to create set difference."
   ]
  },
  {
   "cell_type": "code",
   "execution_count": 23,
   "id": "restricted-boutique",
   "metadata": {},
   "outputs": [
    {
     "name": "stdout",
     "output_type": "stream",
     "text": [
      "Difference of Set A & Set B: {1, 97, 67, 3, 35, 71, 73, 42, 45, 78, 18, 50, 94}\n"
     ]
    }
   ],
   "source": [
    "print(\"Difference of Set A & Set B:\", (setA - setB))"
   ]
  },
  {
   "cell_type": "markdown",
   "id": "hairy-practice",
   "metadata": {},
   "source": [
    "### Write a Python program to find maximum and the minimum value in a set"
   ]
  },
  {
   "cell_type": "code",
   "execution_count": 25,
   "id": "violent-theme",
   "metadata": {},
   "outputs": [
    {
     "name": "stdout",
     "output_type": "stream",
     "text": [
      "MAX: 97 MIN: 1\n"
     ]
    }
   ],
   "source": [
    "A=list(setA)\n",
    "A.sort()\n",
    "print(\"MAX:\",A[-1],\"MIN:\",A[0])\n",
    "A."
   ]
  },
  {
   "cell_type": "markdown",
   "id": "third-syndication",
   "metadata": {},
   "source": [
    "### Write a Python program to check if a set is a subset of another set."
   ]
  },
  {
   "cell_type": "code",
   "execution_count": 33,
   "id": "complex-marble",
   "metadata": {},
   "outputs": [
    {
     "name": "stdout",
     "output_type": "stream",
     "text": [
      "There is no Subset\n"
     ]
    }
   ],
   "source": [
    "if setB in setA:\n",
    "    print(\"Set B is a subset of Set A\")\n",
    "\n",
    "elif setA in setB:\n",
    "    print(\"Set A is a subset of Set B\")\n",
    "\n",
    "else:\n",
    "    print(\"There is no Subset\")\n",
    "\n"
   ]
  },
  {
   "cell_type": "markdown",
   "id": "equivalent-miller",
   "metadata": {},
   "source": [
    "### Write a Python program to find the length of a set"
   ]
  },
  {
   "cell_type": "code",
   "execution_count": 29,
   "id": "refined-diploma",
   "metadata": {},
   "outputs": [
    {
     "name": "stdout",
     "output_type": "stream",
     "text": [
      "Length of the set: 14\n"
     ]
    }
   ],
   "source": [
    "print(\"Length of the set:\",len(setB))"
   ]
  },
  {
   "cell_type": "markdown",
   "id": "driven-train",
   "metadata": {},
   "source": [
    "### Write a Python program to check if two given sets have no elements in common"
   ]
  },
  {
   "cell_type": "code",
   "execution_count": 32,
   "id": "configured-birth",
   "metadata": {},
   "outputs": [
    {
     "name": "stdout",
     "output_type": "stream",
     "text": [
      "Set A and Set B have elemnts in common\n"
     ]
    }
   ],
   "source": [
    "if len(setA & setB) == 0:\n",
    "    print(\"Set A and Set B have NO elemnts in common\")\n",
    "else:\n",
    "    print(\"Set A and Set B have elemnts in common\")"
   ]
  },
  {
   "cell_type": "markdown",
   "id": "descending-penetration",
   "metadata": {},
   "source": [
    "### Write a Python program to clear a set."
   ]
  },
  {
   "cell_type": "code",
   "execution_count": 37,
   "id": "developing-twenty",
   "metadata": {},
   "outputs": [
    {
     "data": {
      "text/plain": [
       "set()"
      ]
     },
     "execution_count": 37,
     "metadata": {},
     "output_type": "execute_result"
    }
   ],
   "source": [
    "setA.clear()\n",
    "setA"
   ]
  },
  {
   "cell_type": "markdown",
   "id": "grave-technology",
   "metadata": {},
   "source": [
    "### Write a Python program to find the elements in a given set that are not in another set. "
   ]
  },
  {
   "cell_type": "code",
   "execution_count": 36,
   "id": "controlling-solomon",
   "metadata": {},
   "outputs": [
    {
     "name": "stdout",
     "output_type": "stream",
     "text": [
      "Symmetric Difference: {2, 7, 9, 14, 15, 17, 18, 19, 20, 23, 24, 26, 27, 30, 35, 36, 37, 60, 72, 76, 77, 82, 88, 89, 90, 96}\n"
     ]
    }
   ],
   "source": [
    "print(\"Symmetric Difference:\",(setA ^ setB))"
   ]
  },
  {
   "cell_type": "code",
   "execution_count": null,
   "id": "lightweight-driving",
   "metadata": {},
   "outputs": [],
   "source": []
  }
 ],
 "metadata": {
  "kernelspec": {
   "display_name": "Python 3",
   "language": "python",
   "name": "python3"
  },
  "language_info": {
   "codemirror_mode": {
    "name": "ipython",
    "version": 3
   },
   "file_extension": ".py",
   "mimetype": "text/x-python",
   "name": "python",
   "nbconvert_exporter": "python",
   "pygments_lexer": "ipython3",
   "version": "3.8.5"
  },
  "varInspector": {
   "cols": {
    "lenName": 16,
    "lenType": 16,
    "lenVar": 40
   },
   "kernels_config": {
    "python": {
     "delete_cmd_postfix": "",
     "delete_cmd_prefix": "del ",
     "library": "var_list.py",
     "varRefreshCmd": "print(var_dic_list())"
    },
    "r": {
     "delete_cmd_postfix": ") ",
     "delete_cmd_prefix": "rm(",
     "library": "var_list.r",
     "varRefreshCmd": "cat(var_dic_list()) "
    }
   },
   "types_to_exclude": [
    "module",
    "function",
    "builtin_function_or_method",
    "instance",
    "_Feature"
   ],
   "window_display": false
  }
 },
 "nbformat": 4,
 "nbformat_minor": 5
}
