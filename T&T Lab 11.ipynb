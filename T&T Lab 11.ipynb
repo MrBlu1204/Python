{
 "cells": [
  {
   "cell_type": "markdown",
   "id": "driven-evaluation",
   "metadata": {},
   "source": [
    "# T&T Lab 11 - 19th Feb\n",
    "## Manish Ranjan Behera (1828249)"
   ]
  },
  {
   "cell_type": "code",
   "execution_count": 17,
   "id": "surface-diesel",
   "metadata": {},
   "outputs": [],
   "source": [
    "class Computer:\n",
    "    pass\n",
    "obj = Computer()"
   ]
  },
  {
   "cell_type": "code",
   "execution_count": 14,
   "id": "plastic-burst",
   "metadata": {},
   "outputs": [
    {
     "name": "stdout",
     "output_type": "stream",
     "text": [
      "Bird is ready\n",
      "Penguin is ready\n",
      "Penguin\n",
      "Swim faster\n",
      "Run faster\n"
     ]
    }
   ],
   "source": [
    "class Bird:\n",
    "    \n",
    "    def __init__(self):\n",
    "        print(\"Bird is ready\")\n",
    "\n",
    "    def whoisThis(self):\n",
    "        print(\"Bird\")\n",
    "\n",
    "    def swim(self):\n",
    "        print(\"Swim faster\")\n",
    "\n",
    "# child class\n",
    "class Penguin(Bird):\n",
    "\n",
    "    def __init__(self):\n",
    "        # call super() function\n",
    "        super().__init__()\n",
    "        print(\"Penguin is ready\")\n",
    "\n",
    "    def whoisThis(self):\n",
    "        print(\"Penguin\")\n",
    "\n",
    "    def run(self):\n",
    "        print(\"Run faster\")\n",
    "\n",
    "peggy = Penguin()\n",
    "peggy.whoisThis()\n",
    "peggy.swim()\n",
    "peggy.run()"
   ]
  },
  {
   "cell_type": "markdown",
   "id": "magnetic-payday",
   "metadata": {},
   "source": [
    "### Q1. WAP that creates a class with a single method. "
   ]
  },
  {
   "cell_type": "code",
   "execution_count": 22,
   "id": "universal-awareness",
   "metadata": {},
   "outputs": [
    {
     "name": "stdout",
     "output_type": "stream",
     "text": [
      "Object Created\n",
      "This is Mr. Blu\n"
     ]
    }
   ],
   "source": [
    "class MrBlu:\n",
    "    def __init__(self):\n",
    "        print(\"Object Created\")\n",
    "    def whoisThis(self):\n",
    "        print(\"This is Mr. Blu\")\n",
    "\n",
    "manish=MrBlu()\n",
    "manish.whoisThis()"
   ]
  },
  {
   "cell_type": "markdown",
   "id": "approved-engineering",
   "metadata": {},
   "source": [
    "### Q2. WAP TO CREATE A CLASS  AND USE INATANCE VARIABLES"
   ]
  },
  {
   "cell_type": "code",
   "execution_count": 11,
   "id": "small-complement",
   "metadata": {},
   "outputs": [
    {
     "name": "stdout",
     "output_type": "stream",
     "text": [
      "Name :  Zara , Salary:  2000\n",
      "Name :  Manni , Salary:  5000\n"
     ]
    }
   ],
   "source": [
    "class Employee:\n",
    "    empCount = 0\n",
    "    def __init__(self, name, salary):\n",
    "        self.name = name\n",
    "        self.salary = salary\n",
    "        Employee.empCount += 1\n",
    "   \n",
    "    def displayCount(self):\n",
    "        print(\"Total Employee %d\" % Employee.empCount)\n",
    "\n",
    "    def displayEmployee(self):\n",
    "        print(\"Name : \", self.name,  \", Salary: \", self.salary)\n",
    "        \n",
    "emp1 = Employee(\"Zara\", 2000)\n",
    "emp2 = Employee(\"Manni\", 5000)\n",
    "emp1.displayEmployee()\n",
    "emp2.displayEmployee()"
   ]
  },
  {
   "cell_type": "markdown",
   "id": "whole-independence",
   "metadata": {},
   "source": [
    "### WAP TO COUNT NO. OF OBJECTS CREATED"
   ]
  },
  {
   "cell_type": "code",
   "execution_count": 4,
   "id": "numerical-suicide",
   "metadata": {},
   "outputs": [
    {
     "name": "stdout",
     "output_type": "stream",
     "text": [
      "Total Employee 2\n"
     ]
    }
   ],
   "source": [
    "print(\"Total Employee %d\" %Employee.empCount)"
   ]
  },
  {
   "cell_type": "markdown",
   "id": "latter-genetics",
   "metadata": {},
   "source": [
    "###  WAP to check a number is Palindrome number or not."
   ]
  },
  {
   "cell_type": "code",
   "execution_count": 5,
   "id": "attached-theta",
   "metadata": {},
   "outputs": [
    {
     "name": "stdout",
     "output_type": "stream",
     "text": [
      "151 is Palindrome\n",
      "127 is not Palindrome\n"
     ]
    }
   ],
   "source": [
    "class Check :\n",
    "    def __init__(self,number) :\n",
    "        self.num = number\n",
    "    def isPalindrome(self) :\n",
    "        temp = self.num\n",
    "        result = 0\n",
    "        while(temp != 0) :\n",
    "            r = temp % 10\n",
    "            result =  result * 10 + r\n",
    "            temp //= 10\n",
    "        if self.num == result :\n",
    "            print(self.num,\"is Palindrome\")\n",
    "        else :\n",
    "            print(self.num,\"is not Palindrome\")\n",
    "\n",
    "    \n",
    "num = 151\n",
    "check_Palindrome = Check(num)\n",
    "check_Palindrome.isPalindrome()\n",
    "num = 127\n",
    "check_Palindrome = Check(num)\n",
    "check_Palindrome.isPalindrome()"
   ]
  },
  {
   "cell_type": "markdown",
   "id": "derived-latitude",
   "metadata": {},
   "source": [
    "### Python program to add two distances"
   ]
  },
  {
   "cell_type": "code",
   "execution_count": 10,
   "id": "wireless-break",
   "metadata": {},
   "outputs": [
    {
     "name": "stdout",
     "output_type": "stream",
     "text": [
      "Enter first distance\n",
      "Enter CM: 156\n",
      "Enter M: 765\n",
      "Enter KM: 12\n",
      "Enter second distance\n",
      "Enter CM: 78\n",
      "Enter M: 567\n",
      "Enter KM: 5\n",
      "The sum of both distance is\n",
      "18 KMs 334 Mtrs 34 Cms\n"
     ]
    }
   ],
   "source": [
    "class Distance:\n",
    "    def GetDistance(self):\n",
    "        self.cm=int(input(\"Enter CM: \"))\n",
    "        self.m=int(input(\"Enter M: \"))\n",
    "        self.km = int(input(\"Enter KM: \"))\n",
    "\n",
    "    def PutDistance(self):\n",
    "         print(self.km,\"KMs\",self.m,\"Mtrs\",self.cm,\"Cms\")\n",
    "\n",
    "    def __add__(self, T):\n",
    "        R=Distance()\n",
    "        R.cm=self.cm+T.cm\n",
    "        R.m=self.m+T.m\n",
    "        R.km = self.km + T.km\n",
    "        R.m=R.m+(R.cm//100)\n",
    "        R.cm=R.cm%100\n",
    "        R.km=R.km+(R.m//1000)\n",
    "        R.m=R.m%1000\n",
    "        return R\n",
    "\n",
    "D1=Distance()\n",
    "D2=Distance()\n",
    "\n",
    "print(\"Enter first distance\")\n",
    "D1.GetDistance()\n",
    "\n",
    "print(\"Enter second distance\")\n",
    "D2.GetDistance()\n",
    "\n",
    "D3=D1+D2\n",
    "print(\"The sum of both distance is\")\n",
    "D3.PutDistance()"
   ]
  },
  {
   "cell_type": "code",
   "execution_count": null,
   "id": "expanded-reflection",
   "metadata": {},
   "outputs": [],
   "source": []
  }
 ],
 "metadata": {
  "kernelspec": {
   "display_name": "Python 3",
   "language": "python",
   "name": "python3"
  },
  "language_info": {
   "codemirror_mode": {
    "name": "ipython",
    "version": 3
   },
   "file_extension": ".py",
   "mimetype": "text/x-python",
   "name": "python",
   "nbconvert_exporter": "python",
   "pygments_lexer": "ipython3",
   "version": "3.8.5"
  },
  "varInspector": {
   "cols": {
    "lenName": 16,
    "lenType": 16,
    "lenVar": 40
   },
   "kernels_config": {
    "python": {
     "delete_cmd_postfix": "",
     "delete_cmd_prefix": "del ",
     "library": "var_list.py",
     "varRefreshCmd": "print(var_dic_list())"
    },
    "r": {
     "delete_cmd_postfix": ") ",
     "delete_cmd_prefix": "rm(",
     "library": "var_list.r",
     "varRefreshCmd": "cat(var_dic_list()) "
    }
   },
   "types_to_exclude": [
    "module",
    "function",
    "builtin_function_or_method",
    "instance",
    "_Feature"
   ],
   "window_display": false
  }
 },
 "nbformat": 4,
 "nbformat_minor": 5
}
