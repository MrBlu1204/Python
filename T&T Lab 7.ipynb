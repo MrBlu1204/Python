{
 "cells": [
  {
   "cell_type": "markdown",
   "metadata": {},
   "source": [
    "# T & T Lab 7 - 22nd Jan\n",
    "## Manish Ranjan Behera - 1828249"
   ]
  },
  {
   "cell_type": "markdown",
   "metadata": {},
   "source": [
    "### **Function**\n",
    "A function is a block of code which only runs when it is called.\n",
    "1. YOU CAN PASS DATA TO THE FUNCTION\n",
    "2. RETURN YOU THE RESULT\n",
    "3. add a * before the parameter name for arbitary argument"
   ]
  },
  {
   "cell_type": "code",
   "execution_count": 1,
   "metadata": {},
   "outputs": [
    {
     "name": "stdout",
     "output_type": "stream",
     "text": [
      "apple\n",
      "banana\n",
      "cherry\n"
     ]
    }
   ],
   "source": [
    "def my_function(food):\n",
    "    for x in food:\n",
    "        print(x)\n",
    "\n",
    "fruits = [\"apple\", \"banana\", \"cherry\"]\n",
    "\n",
    "my_function(fruits)"
   ]
  },
  {
   "cell_type": "markdown",
   "metadata": {},
   "source": [
    "### Recursion"
   ]
  },
  {
   "cell_type": "code",
   "execution_count": 2,
   "metadata": {},
   "outputs": [
    {
     "name": "stdout",
     "output_type": "stream",
     "text": [
      "\n",
      "\n",
      "Recursion Example Results\n",
      "1\n",
      "3\n",
      "6\n",
      "10\n",
      "15\n",
      "21\n"
     ]
    },
    {
     "data": {
      "text/plain": [
       "21"
      ]
     },
     "execution_count": 2,
     "metadata": {},
     "output_type": "execute_result"
    }
   ],
   "source": [
    "def tri_recursion(k):\n",
    "    if(k > 0):\n",
    "        result = k + tri_recursion(k - 1)\n",
    "        print(result)\n",
    "    else:\n",
    "        result = 0\n",
    "    return result\n",
    "\n",
    "print(\"\\n\\nRecursion Example Results\")\n",
    "tri_recursion(6)"
   ]
  },
  {
   "cell_type": "markdown",
   "metadata": {},
   "source": [
    "### Create a Function that can accept two arguments name and age and print its value"
   ]
  },
  {
   "cell_type": "code",
   "execution_count": 3,
   "metadata": {},
   "outputs": [
    {
     "name": "stdout",
     "output_type": "stream",
     "text": [
      "Hey ,I'm Manish and I'm 20 years old.\n"
     ]
    }
   ],
   "source": [
    "def intro(name,age):\n",
    "    print(f\"Hey ,I'm {name} and I'm {age} years old.\")\n",
    "\n",
    "intro('Manish',20)"
   ]
  },
  {
   "cell_type": "markdown",
   "metadata": {},
   "source": [
    "### Create a function showEmployee() in such a way that it should accept employee name, and it's salary and Display both, and if salary is missing in function call it shoud show it as 50000."
   ]
  },
  {
   "cell_type": "code",
   "execution_count": 7,
   "metadata": {},
   "outputs": [
    {
     "name": "stdout",
     "output_type": "stream",
     "text": [
      "Mr. Blu has a salary of Rs.50000\n"
     ]
    }
   ],
   "source": [
    "def showEmployee(name, salary=50000):\n",
    "    print(f\"{name} has a salary of Rs.{salary}\")\n",
    "    \n",
    "showEmployee('Mr. Blu')"
   ]
  },
  {
   "cell_type": "markdown",
   "metadata": {},
   "source": [
    "### Create Multiplication table of 7 using recursion."
   ]
  },
  {
   "cell_type": "code",
   "execution_count": 9,
   "metadata": {},
   "outputs": [
    {
     "name": "stdout",
     "output_type": "stream",
     "text": [
      "7 x 1 = 7\n",
      "7 x 2 = 14\n",
      "7 x 3 = 21\n",
      "7 x 4 = 28\n",
      "7 x 5 = 35\n",
      "7 x 6 = 42\n",
      "7 x 7 = 49\n",
      "7 x 8 = 56\n",
      "7 x 9 = 63\n",
      "7 x 10 = 70\n"
     ]
    },
    {
     "data": {
      "text/plain": [
       "70"
      ]
     },
     "execution_count": 9,
     "metadata": {},
     "output_type": "execute_result"
    }
   ],
   "source": [
    "def mulTable(n):\n",
    "    if n>1:\n",
    "        product=7+mulTable(n-1)\n",
    "        print(\"7 x {} = {}\".format(n,product))\n",
    "    else:\n",
    "        product=7\n",
    "        print(\"7 x {} = {}\".format(n,product))\n",
    "    return product\n",
    "\n",
    "mulTable(10)"
   ]
  },
  {
   "cell_type": "markdown",
   "metadata": {},
   "source": [
    "### Write a recursive function to calculate the sum of numbers from 0 to 10"
   ]
  },
  {
   "cell_type": "code",
   "execution_count": 11,
   "metadata": {},
   "outputs": [
    {
     "name": "stdout",
     "output_type": "stream",
     "text": [
      "Sum of the number is 55\n"
     ]
    }
   ],
   "source": [
    "def numSum(n):\n",
    "    if n>0:\n",
    "        s=n+numSum(n-1)\n",
    "    else:\n",
    "        s=0\n",
    "    return s\n",
    "\n",
    "print(\"Sum of the number is {}\".format(numSum(10)))"
   ]
  },
  {
   "cell_type": "markdown",
   "metadata": {},
   "source": [
    "### Generate a list of all the even numbers between 2 to 100"
   ]
  },
  {
   "cell_type": "code",
   "execution_count": 13,
   "metadata": {},
   "outputs": [
    {
     "name": "stdout",
     "output_type": "stream",
     "text": [
      "[2, 4, 6, 8, 10, 12, 14, 16, 18, 20, 22, 24, 26, 28, 30, 32, 34, 36, 38, 40, 42, 44, 46, 48, 50, 52, 54, 56, 58, 60, 62, 64, 66, 68, 70, 72, 74, 76, 78, 80, 82, 84, 86, 88, 90, 92, 94, 96, 98, 100]\n"
     ]
    }
   ],
   "source": [
    "def even(start,end):\n",
    "    evenNumbers=[]\n",
    "    for i in range(start,end+1):\n",
    "        if i%2==0:\n",
    "            evenNumbers.append(i)\n",
    "    print(evenNumbers)\n",
    "\n",
    "even(2,100)"
   ]
  },
  {
   "cell_type": "markdown",
   "metadata": {},
   "source": [
    "### Print the following Patterns"
   ]
  },
  {
   "attachments": {
    "Screenshot%202021-01-29%20223244.png": {
     "image/png": "[encoded data removed]"
    }
   },
   "cell_type": "markdown",
   "metadata": {},
   "source": [
    "1.![Screenshot%202021-01-29%20223244.png](attachment:Screenshot%202021-01-29%20223244.png)"
   ]
  },
  {
   "cell_type": "code",
   "execution_count": 27,
   "metadata": {},
   "outputs": [
    {
     "name": "stdout",
     "output_type": "stream",
     "text": [
      "*****\n",
      "*****\n",
      "*****\n",
      "*****\n",
      "*****\n"
     ]
    }
   ],
   "source": [
    "for i in range(0,n):\n",
    "    print(\"*\"*n)\n"
   ]
  },
  {
   "attachments": {
    "Screenshot%202021-01-29%20223710.png": {
     "image/png": "[encoded data removed]"
    }
   },
   "cell_type": "markdown",
   "metadata": {},
   "source": [
    "2.![Screenshot%202021-01-29%20223710.png](attachment:Screenshot%202021-01-29%20223710.png)"
   ]
  },
  {
   "cell_type": "code",
   "execution_count": 18,
   "metadata": {},
   "outputs": [
    {
     "name": "stdout",
     "output_type": "stream",
     "text": [
      "AAAAA\n",
      "BBBBB\n",
      "CCCCC\n",
      "DDDDD\n",
      "EEEEE\n"
     ]
    }
   ],
   "source": [
    "alpha=['A','B','C','D','E','F','G','H']\n",
    "n=5\n",
    "for i in range(0,n):\n",
    "        print(f\"{alpha[i]}\"*n)\n"
   ]
  },
  {
   "attachments": {
    "Screenshot%202021-01-29%20223810.png": {
     "image/png": "[encoded data removed]"
    }
   },
   "cell_type": "markdown",
   "metadata": {},
   "source": [
    "3.![Screenshot%202021-01-29%20223810.png](attachment:Screenshot%202021-01-29%20223810.png)"
   ]
  },
  {
   "cell_type": "code",
   "execution_count": 19,
   "metadata": {},
   "outputs": [
    {
     "name": "stdout",
     "output_type": "stream",
     "text": [
      "1\n",
      "22\n",
      "333\n",
      "4444\n",
      "55555\n"
     ]
    }
   ],
   "source": [
    "for i in range (1,6):\n",
    "    print(f\"{i}\"*i)"
   ]
  },
  {
   "attachments": {
    "Screenshot%202021-01-29%20223855.png": {
     "image/png": "[encoded data removed]"
    }
   },
   "cell_type": "markdown",
   "metadata": {},
   "source": [
    "4.![Screenshot%202021-01-29%20223855.png](attachment:Screenshot%202021-01-29%20223855.png)"
   ]
  },
  {
   "cell_type": "code",
   "execution_count": 21,
   "metadata": {},
   "outputs": [
    {
     "name": "stdout",
     "output_type": "stream",
     "text": [
      "\n",
      "P\n",
      "PR\n",
      "PRA\n",
      "PRAB\n",
      "PRABH\n",
      "PRABHU\n"
     ]
    }
   ],
   "source": [
    "string='PRABHU'\n",
    "for i in range(0,len(string)+1):\n",
    "    print(string[0:i])"
   ]
  },
  {
   "attachments": {
    "Screenshot%202021-01-29%20224031.png": {
     "image/png": "[encoded data removed]"
    }
   },
   "cell_type": "markdown",
   "metadata": {},
   "source": [
    "5.![Screenshot%202021-01-29%20224031.png](attachment:Screenshot%202021-01-29%20224031.png)"
   ]
  },
  {
   "cell_type": "code",
   "execution_count": 32,
   "metadata": {},
   "outputs": [
    {
     "name": "stdout",
     "output_type": "stream",
     "text": [
      "EDCBA\n",
      "EDCB\n",
      "EDC\n",
      "ED\n",
      "E\n",
      "\n"
     ]
    }
   ],
   "source": [
    "string='EDCBA'\n",
    "for i in range(0,len(string)+1):\n",
    "    print(string[0:len(string)-i])"
   ]
  },
  {
   "cell_type": "code",
   "execution_count": null,
   "metadata": {},
   "outputs": [],
   "source": []
  }
 ],
 "metadata": {
  "kernelspec": {
   "display_name": "Python 3",
   "language": "python",
   "name": "python3"
  },
  "language_info": {
   "codemirror_mode": {
    "name": "ipython",
    "version": 3
   },
   "file_extension": ".py",
   "mimetype": "text/x-python",
   "name": "python",
   "nbconvert_exporter": "python",
   "pygments_lexer": "ipython3",
   "version": "3.8.5"
  },
  "varInspector": {
   "cols": {
    "lenName": 16,
    "lenType": 16,
    "lenVar": 40
   },
   "kernels_config": {
    "python": {
     "delete_cmd_postfix": "",
     "delete_cmd_prefix": "del ",
     "library": "var_list.py",
     "varRefreshCmd": "print(var_dic_list())"
    },
    "r": {
     "delete_cmd_postfix": ") ",
     "delete_cmd_prefix": "rm(",
     "library": "var_list.r",
     "varRefreshCmd": "cat(var_dic_list()) "
    }
   },
   "types_to_exclude": [
    "module",
    "function",
    "builtin_function_or_method",
    "instance",
    "_Feature"
   ],
   "window_display": false
  }
 },
 "nbformat": 4,
 "nbformat_minor": 4
}
