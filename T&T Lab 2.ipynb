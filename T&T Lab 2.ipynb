{
 "cells": [
  {
   "cell_type": "markdown",
   "metadata": {},
   "source": [
    "# T&T Lab 2 - 6th Jan\n",
    "## Manish Ranjan Behera (1828249)"
   ]
  },
  {
   "cell_type": "markdown",
   "metadata": {},
   "source": [
    "### Data Type"
   ]
  },
  {
   "cell_type": "code",
   "execution_count": 1,
   "metadata": {},
   "outputs": [
    {
     "data": {
      "text/plain": [
       "float"
      ]
     },
     "execution_count": 1,
     "metadata": {},
     "output_type": "execute_result"
    }
   ],
   "source": [
    "x=6.0\n",
    "type(x)"
   ]
  },
  {
   "cell_type": "code",
   "execution_count": 2,
   "metadata": {},
   "outputs": [
    {
     "data": {
      "text/plain": [
       "str"
      ]
     },
     "execution_count": 2,
     "metadata": {},
     "output_type": "execute_result"
    }
   ],
   "source": [
    "x=\"flower\"\n",
    "type(x)"
   ]
  },
  {
   "cell_type": "code",
   "execution_count": 3,
   "metadata": {},
   "outputs": [
    {
     "data": {
      "text/plain": [
       "complex"
      ]
     },
     "execution_count": 3,
     "metadata": {},
     "output_type": "execute_result"
    }
   ],
   "source": [
    "x=7j\n",
    "type(x)"
   ]
  },
  {
   "cell_type": "code",
   "execution_count": 4,
   "metadata": {},
   "outputs": [
    {
     "name": "stdout",
     "output_type": "stream",
     "text": [
      "k\n",
      "i\n",
      "i\n",
      "t\n"
     ]
    }
   ],
   "source": [
    "for x in 'kiit':\n",
    "    print(x)"
   ]
  },
  {
   "cell_type": "code",
   "execution_count": 5,
   "metadata": {},
   "outputs": [
    {
     "data": {
      "text/plain": [
       "4"
      ]
     },
     "execution_count": 5,
     "metadata": {},
     "output_type": "execute_result"
    }
   ],
   "source": [
    "len(\"kiit\")"
   ]
  },
  {
   "cell_type": "code",
   "execution_count": 6,
   "metadata": {},
   "outputs": [
    {
     "data": {
      "text/plain": [
       "False"
      ]
     },
     "execution_count": 6,
     "metadata": {},
     "output_type": "execute_result"
    }
   ],
   "source": [
    "\"kiit\"==True"
   ]
  },
  {
   "cell_type": "markdown",
   "metadata": {},
   "source": [
    "### WAP to Remove Characters in String Except Alphabets"
   ]
  },
  {
   "cell_type": "code",
   "execution_count": 7,
   "metadata": {},
   "outputs": [
    {
     "name": "stdout",
     "output_type": "stream",
     "text": [
      "dfhjdfahghaufhaf\n"
     ]
    }
   ],
   "source": [
    "x=\"dfh13jd,fahghau'fhaf\"\n",
    "newX=[]\n",
    "for i in x:\n",
    "    if i.isalpha():\n",
    "        newX.append(i)\n",
    "x=''.join(newX)\n",
    "print(x)"
   ]
  },
  {
   "cell_type": "markdown",
   "metadata": {},
   "source": [
    "### WAP TO CHECK WHETHER STRING IS PALLINDROME OR NOT."
   ]
  },
  {
   "cell_type": "code",
   "execution_count": 8,
   "metadata": {},
   "outputs": [
    {
     "name": "stdout",
     "output_type": "stream",
     "text": [
      "PLLINDROME\n"
     ]
    }
   ],
   "source": [
    "name=\"aabcbaa\"\n",
    "if name == name[::-1]:\n",
    "    print(\"PLLINDROME\")\n",
    "else:\n",
    "    print(\"NOT PALLINDROME\")"
   ]
  },
  {
   "cell_type": "markdown",
   "metadata": {},
   "source": [
    "### WAP TO Sort strings in the dictionary order"
   ]
  },
  {
   "cell_type": "code",
   "execution_count": 9,
   "metadata": {
    "scrolled": true
   },
   "outputs": [
    {
     "name": "stdout",
     "output_type": "stream",
     "text": [
      "['dsfsdf', 'hjhm', 'jhva', 'vsacdnas']\n"
     ]
    }
   ],
   "source": [
    "dic=['dsfsdf','vsacdnas','jhva','hjhm']\n",
    "dic.sort()\n",
    "print(dic)"
   ]
  },
  {
   "cell_type": "markdown",
   "metadata": {},
   "source": [
    "### WAP TO Find the Frequency of a Character"
   ]
  },
  {
   "cell_type": "code",
   "execution_count": 10,
   "metadata": {},
   "outputs": [
    {
     "name": "stdout",
     "output_type": "stream",
     "text": [
      "r = 1\n",
      "1 = 3\n",
      "w = 2\n",
      "6 = 2\n"
     ]
    }
   ],
   "source": [
    "l=['w',1,6,'r','w',6,1,1]\n",
    "c=set(l)\n",
    "for i in c:\n",
    "    freq=0\n",
    "    for j in l:\n",
    "        if i==j:\n",
    "            freq = freq+1\n",
    "    print(\"{} = {}\".format(i,freq))"
   ]
  },
  {
   "cell_type": "markdown",
   "metadata": {},
   "source": [
    "# Assignment"
   ]
  },
  {
   "cell_type": "markdown",
   "metadata": {},
   "source": [
    "### WAP TO Make a two-player Rock-Paper-Scissors game."
   ]
  },
  {
   "cell_type": "code",
   "execution_count": 11,
   "metadata": {},
   "outputs": [
    {
     "name": "stdout",
     "output_type": "stream",
     "text": [
      "Type \"ROCK\",\"PAPER\" or \"SCISSOR\" in your response\n",
      "PLAYER 1:PAPER\n",
      "PLAYER 2:ROCK\n",
      "Player 1, WINS!\n"
     ]
    }
   ],
   "source": [
    "print('Type \"ROCK\",\"PAPER\" or \"SCISSOR\" in your response')\n",
    "player1=input(\"PLAYER 1:\")\n",
    "player2=input(\"PLAYER 2:\")\n",
    "if player1==player2:\n",
    "    print(\"It's a TIE\")\n",
    "elif (player1=='ROCK' and player2=='SCISSOR') \\\n",
    "or (player1=='PAPER' and player2=='ROCK')\\\n",
    "or (player1=='SCISSOR' and player2=='PAPER'):\n",
    "    print(\"Player 1, WINS!\")\n",
    "else:\n",
    "    print(\"Player 2, WINS!\")"
   ]
  },
  {
   "cell_type": "markdown",
   "metadata": {},
   "source": [
    "### WAP TO Copy String Without Using strcpy()"
   ]
  },
  {
   "cell_type": "code",
   "execution_count": 12,
   "metadata": {},
   "outputs": [
    {
     "name": "stdout",
     "output_type": "stream",
     "text": [
      "Happy\n"
     ]
    }
   ],
   "source": [
    "s='Happy'\n",
    "q=s[:]\n",
    "print(q)"
   ]
  },
  {
   "cell_type": "markdown",
   "metadata": {},
   "source": [
    "### Write a Python program to get a string made of the first 2 and the last 2 chars from a given a string. If the string length is less than 2, return instead of the empty string."
   ]
  },
  {
   "cell_type": "code",
   "execution_count": 13,
   "metadata": {},
   "outputs": [
    {
     "name": "stdout",
     "output_type": "stream",
     "text": [
      "New String created is Mash\n"
     ]
    }
   ],
   "source": [
    "string='Manish'\n",
    "new_string=''\n",
    "if len(string)>=2:\n",
    "    new_string=string[:2]+string[-2:]\n",
    "print(\"New String created is {}\".format(new_string))"
   ]
  },
  {
   "cell_type": "markdown",
   "metadata": {},
   "source": [
    "### Write a Python program to add 'ing' at the end of a given string (length should be at least 3). If the given string already ends with 'ing' then add 'ly' instead. If the string length of the given string is less than 3, leave it unchanged. "
   ]
  },
  {
   "cell_type": "code",
   "execution_count": 14,
   "metadata": {},
   "outputs": [
    {
     "name": "stdout",
     "output_type": "stream",
     "text": [
      "Updated string is Amazingly\n"
     ]
    }
   ],
   "source": [
    "string='Amazing'\n",
    "if len(string)>=3:\n",
    "    if string[-3:]=='ing':\n",
    "        string=string+'ly'\n",
    "    else:\n",
    "        string=string+'ing'\n",
    "print(\"Updated string is {}\".format(string))"
   ]
  },
  {
   "cell_type": "markdown",
   "metadata": {},
   "source": [
    "### Write a Python function that takes a list of words and returns the length of the shortest one"
   ]
  },
  {
   "cell_type": "code",
   "execution_count": 15,
   "metadata": {},
   "outputs": [
    {
     "name": "stdout",
     "output_type": "stream",
     "text": [
      "Shortest word in the list is Roy\n"
     ]
    }
   ],
   "source": [
    "strList=['Manish','Happy','MrBlu','Rayden','Roy','Flamegyser']\n",
    "shortest=strList[0]\n",
    "for i in strList:\n",
    "    if len(shortest)>len(i):\n",
    "        shortest=i\n",
    "print(\"Shortest word in the list is {}\".format(shortest))"
   ]
  },
  {
   "cell_type": "code",
   "execution_count": null,
   "metadata": {},
   "outputs": [],
   "source": []
  }
 ],
 "metadata": {
  "kernelspec": {
   "display_name": "Python 3",
   "language": "python",
   "name": "python3"
  },
  "language_info": {
   "codemirror_mode": {
    "name": "ipython",
    "version": 3
   },
   "file_extension": ".py",
   "mimetype": "text/x-python",
   "name": "python",
   "nbconvert_exporter": "python",
   "pygments_lexer": "ipython3",
   "version": "3.8.5"
  }
 },
 "nbformat": 4,
 "nbformat_minor": 4
}
