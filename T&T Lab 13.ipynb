{
 "cells": [
  {
   "attachments": {},
   "cell_type": "markdown",
   "id": "extraordinary-parliament",
   "metadata": {},
   "source": [
    "# T&T Lab 13 - 26th Feb\n",
    "## Manish Ranjan Behera(1828249)"
   ]
  },
  {
   "cell_type": "markdown",
   "id": "dressed-weekly",
   "metadata": {},
   "source": [
    "### Inheritance\n",
    "1. **Single Inheritance**  \n",
    "When a child class inherits only a single parent class.  \n",
    "2. **Multiple Inheritance**  \n",
    "When a child class inherits from more than one parent class.  \n",
    "3. **Multilevel Inheritance**  \n",
    "When a child class becomes a parent class for another child class  \n",
    "4. **Hierarchical Inheritance**\n",
    "Hierarchical inheritance involves multiple inheritance from the same base or parent class.  "
   ]
  },
  {
   "cell_type": "markdown",
   "id": "weighted-court",
   "metadata": {},
   "source": [
    "### Single Inheritance"
   ]
  },
  {
   "cell_type": "code",
   "execution_count": 1,
   "id": "adopted-sustainability",
   "metadata": {},
   "outputs": [
    {
     "name": "stdout",
     "output_type": "stream",
     "text": [
      "This function is in parent class.\n",
      "This function is in child class.\n"
     ]
    }
   ],
   "source": [
    "class Parent:\n",
    "     def func1(self):\n",
    "        print(\"This function is in parent class.\")\n",
    "\n",
    "class Child(Parent):\n",
    "     def func2(self):\n",
    "        print(\"This function is in child class.\")\n",
    "\n",
    "        \n",
    "object = Child()\n",
    "object.func1()\n",
    "object.func2()"
   ]
  },
  {
   "cell_type": "markdown",
   "id": "pending-orchestra",
   "metadata": {},
   "source": [
    "### Multiple Inheritance"
   ]
  },
  {
   "cell_type": "code",
   "execution_count": 2,
   "id": "cosmetic-fluid",
   "metadata": {},
   "outputs": [
    {
     "name": "stdout",
     "output_type": "stream",
     "text": [
      "Father : RAM\n",
      "Mother : SITA\n"
     ]
    }
   ],
   "source": [
    "class Mother:\n",
    "    mothername = \"\"\n",
    "    def mother(self):\n",
    "        print(self.mothername)\n",
    "\n",
    "class Father:\n",
    "    fathername = \"\"\n",
    "    def father(self):\n",
    "        print(self.fathername)\n",
    "        \n",
    "        \n",
    "class Son(Mother, Father):\n",
    "    def parents(self):\n",
    "        print(\"Father :\", self.fathername)\n",
    "        print(\"Mother :\", self.mothername)\n",
    "        \n",
    "        \n",
    "s1 = Son()\n",
    "s1.fathername = \"RAM\"\n",
    "s1.mothername = \"SITA\"\n",
    "s1.parents()"
   ]
  },
  {
   "cell_type": "markdown",
   "id": "resistant-logging",
   "metadata": {},
   "source": [
    "### Multi Level Inheritance"
   ]
  },
  {
   "cell_type": "code",
   "execution_count": 3,
   "id": "hazardous-looking",
   "metadata": {},
   "outputs": [
    {
     "name": "stdout",
     "output_type": "stream",
     "text": [
      "Lal mani\n",
      "Grandfather name : Lal mani\n",
      "Father name : Rampal\n",
      "Son name : Prince\n"
     ]
    }
   ],
   "source": [
    "class Grandfather:\n",
    "    def __init__(self, grandfathername):\n",
    "        self.grandfathername = grandfathername\n",
    "\n",
    "\n",
    "class Father(Grandfather):\n",
    "    def __init__(self, fathername, grandfathername):\n",
    "        self.fathername = fathername\n",
    "        Grandfather.__init__(self, grandfathername)\n",
    "\n",
    "        \n",
    "class Son(Father):\n",
    "    def __init__(self,sonname, fathername, grandfathername):\n",
    "        self.sonname = sonname\n",
    "        Father.__init__(self, fathername, grandfathername)\n",
    " \n",
    "    def print_name(self):\n",
    "        print('Grandfather name :', self.grandfathername)\n",
    "        print(\"Father name :\", self.fathername)\n",
    "        print(\"Son name :\", self.sonname)\n",
    "\n",
    "        \n",
    "        \n",
    "s1 = Son('Prince', 'Rampal', 'Lal mani')\n",
    "print(s1.grandfathername)\n",
    "s1.print_name()"
   ]
  },
  {
   "cell_type": "markdown",
   "id": "elementary-conclusion",
   "metadata": {},
   "source": [
    "### Q1. WAP to represent Hierarchical Inheritance"
   ]
  },
  {
   "cell_type": "code",
   "execution_count": 4,
   "id": "geographic-launch",
   "metadata": {},
   "outputs": [
    {
     "name": "stdout",
     "output_type": "stream",
     "text": [
      "This function is in parent class.\n",
      "This function is in child 1.\n",
      "This function is in parent class.\n",
      "This function is in child 2.\n"
     ]
    }
   ],
   "source": [
    "class Parent:\n",
    "      def func1(self):\n",
    "            print(\"This function is in parent class.\")\n",
    "            \n",
    "            \n",
    "class Child1(Parent):\n",
    "      def func2(self):\n",
    "            print(\"This function is in child 1.\")\n",
    "        \n",
    "        \n",
    "class Child2(Parent):\n",
    "      def func3(self):\n",
    "            print(\"This function is in child 2.\")\n",
    "            \n",
    "            \n",
    "object1 = Child1()\n",
    "object2 = Child2()\n",
    "object1.func1()\n",
    "object1.func2()\n",
    "object2.func1()\n",
    "object2.func3()"
   ]
  },
  {
   "cell_type": "markdown",
   "id": "atmospheric-individual",
   "metadata": {},
   "source": [
    "### Q2. Create a class named 'Member' having the following members:  \n",
    "Data members  \n",
    "1 - Name  \n",
    "2 - Age  \n",
    "3 - Phone number  \n",
    "4 - Address  \n",
    "5 - Salary  \n",
    "It also has a method named 'printSalary' which prints the salary of the members.  \n",
    "Two classes 'Employee' and 'Manager' inherits the 'Member' class. The 'Employee' and 'Manager' classes have data members 'specialization' and 'department' respectively. Now, assign name, age, phone number, address and salary to an employee and a manager by making an object of both of these."
   ]
  },
  {
   "cell_type": "code",
   "execution_count": 5,
   "id": "accepting-relief",
   "metadata": {},
   "outputs": [],
   "source": [
    "class Member:\n",
    "    def __init__(self):\n",
    "        self.name=input(\"Name: \")\n",
    "        self.age=int(input(\"Age: \"))\n",
    "        self.phone=int(input(\"Phone Number: \"))\n",
    "        self.address=input(\"Address: \")\n",
    "        self.salary=int(input(\"Salary: \"))\n",
    "    def printSalary(self):\n",
    "        print(\"Salary: \",self.salary)\n",
    "        \n",
    "        \n",
    "class Employee(Member):\n",
    "    def __init__(self):\n",
    "        Member.__init__(self)\n",
    "        self.specialization=input(\"Specialization: \")\n",
    "        \n",
    "\n",
    "class Manager(Member):\n",
    "    def __init__(self):\n",
    "        Member.__init__(self)\n",
    "        self.department=input(\"Department: \")\n",
    "        \n",
    "        "
   ]
  },
  {
   "cell_type": "code",
   "execution_count": 6,
   "id": "dressed-magazine",
   "metadata": {},
   "outputs": [
    {
     "name": "stdout",
     "output_type": "stream",
     "text": [
      "Employee\n",
      "Name: Rayden\n",
      "Age: 25\n",
      "Phone Number: 8602432867\n",
      "Address: Indore\n",
      "Salary: 50000\n",
      "Specialization: Android\n",
      "Salary:  50000\n",
      "Manager\n",
      "Name: Mr. Blu\n",
      "Age: 20\n",
      "Phone Number: 9575429455\n",
      "Address: Delhi\n",
      "Salary: 100000\n",
      "Department: Developer\n",
      "Salary:  100000\n"
     ]
    }
   ],
   "source": [
    "print(\"Employee\")\n",
    "emp=Employee()\n",
    "emp.printSalary()\n",
    "print(\"Manager\")\n",
    "mng=Manager()\n",
    "mng.printSalary()"
   ]
  },
  {
   "cell_type": "markdown",
   "id": "dangerous-blanket",
   "metadata": {},
   "source": [
    "### Q3. Create a class with a method that prints \"This is parent class\" and its subclass with another method that prints \"This is child class\". Now, create an object for each of the class and call  \n",
    "1 - method of parent class by object of parent class  \n",
    "2 - method of child class by object of child class  \n",
    "3 - method of parent class by object of child class  \n"
   ]
  },
  {
   "cell_type": "code",
   "execution_count": 7,
   "id": "suburban-subject",
   "metadata": {},
   "outputs": [],
   "source": [
    "class Parent:\n",
    "     def func1(self):\n",
    "        print(\"This function is in parent class.\")\n",
    "\n",
    "class Child(Parent):\n",
    "     def func2(self):\n",
    "        print(\"This function is in child class.\")"
   ]
  },
  {
   "cell_type": "code",
   "execution_count": 8,
   "id": "extensive-boards",
   "metadata": {},
   "outputs": [
    {
     "name": "stdout",
     "output_type": "stream",
     "text": [
      "This function is in parent class.\n",
      "This function is in child class.\n",
      "This function is in parent class.\n"
     ]
    }
   ],
   "source": [
    "parent=Parent()\n",
    "child=Child()\n",
    "parent.func1()\n",
    "child.func2()\n",
    "child.func1()"
   ]
  },
  {
   "cell_type": "markdown",
   "id": "composed-custom",
   "metadata": {},
   "source": [
    "### Q4. Create a class named 'Shape' with a method to print \"This is a shape\". Then create two other classes named 'Rectangle', 'Circle' inheriting the Shape class, both having a method to print \"This is rectangular shape\" and \"This is circular shape\" respectively. Create a subclass 'Square' of 'Rectangle' having a method to print \"Square is a rectangle\". Now call the method of 'Shape' and 'Rectangle' class by the object of 'Square' class."
   ]
  },
  {
   "cell_type": "code",
   "execution_count": 9,
   "id": "progressive-merchant",
   "metadata": {},
   "outputs": [],
   "source": [
    "class Shape:\n",
    "    def funShape(self):\n",
    "        print(\"This is a Shape\")\n",
    "\n",
    "        \n",
    "class Rectangle(Shape):\n",
    "    def funRectangle(self):\n",
    "        print(\"This is Rectangular Shape\")\n",
    "\n",
    "        \n",
    "class Circle(Shape):\n",
    "    def funCircle(self):\n",
    "        print(\"This is Circular Shape\")\n",
    "\n",
    "        \n",
    "class Square(Rectangle):\n",
    "    def funSquare(self):\n",
    "        print(\"Square is a Rectangle\")"
   ]
  },
  {
   "cell_type": "code",
   "execution_count": 10,
   "id": "reported-hudson",
   "metadata": {},
   "outputs": [
    {
     "name": "stdout",
     "output_type": "stream",
     "text": [
      "This is a Shape\n",
      "This is Rectangular Shape\n",
      "Square is a Rectangle\n"
     ]
    }
   ],
   "source": [
    "squareObject=Square()\n",
    "squareObject.funShape()\n",
    "squareObject.funRectangle()\n",
    "squareObject.funSquare()"
   ]
  },
  {
   "cell_type": "markdown",
   "id": "useful-environment",
   "metadata": {},
   "source": [
    "### Q5. Create a class named 'Rectangle' with two data members 'length' and 'breadth' and two methods to print the area and perimeter of the rectangle respectively. Its constructor having parameters for length and breadth is used to initialize length and breadth of the rectangle. Let class 'Square' inherit the 'Rectangle' class with its constructor having a parameter for its side (suppose s) calling the constructor of its parent class as 'super(s,s)'. Print the area and perimeter of a rectangle and a square."
   ]
  },
  {
   "cell_type": "code",
   "execution_count": 11,
   "id": "intimate-shock",
   "metadata": {},
   "outputs": [],
   "source": [
    "class Rectangle:\n",
    "    def __init__(self,l,w):\n",
    "        self.length=l\n",
    "        self.width=w\n",
    "        print(\"A rectangle created with length {} units and width {} units\".format(self.length,self.width))\n",
    "    def area(self):\n",
    "        self.a=self.length * self.width\n",
    "        print(\"Area is {a:1.2f} square units.\".format(a=self.a))\n",
    "    def perimeter(self):\n",
    "        self.p=2*(self.length + self.width)\n",
    "        print(\"Perimeter is {p:1.2f} units.\".format(p=self.p))\n",
    "\n",
    "class Square(Rectangle):\n",
    "    def __init__(self,s):\n",
    "        super().__init__(s,s)\n"
   ]
  },
  {
   "cell_type": "code",
   "execution_count": 12,
   "id": "tribal-bacon",
   "metadata": {},
   "outputs": [
    {
     "name": "stdout",
     "output_type": "stream",
     "text": [
      "Rectangle\n",
      "A rectangle created with length 10 units and width 20 units\n",
      "Area is 200.00 square units.\n",
      "Perimeter is 60.00 units.\n",
      "Square\n",
      "A rectangle created with length 10 units and width 10 units\n",
      "Area is 100.00 square units.\n",
      "Perimeter is 40.00 units.\n"
     ]
    }
   ],
   "source": [
    "print(\"Rectangle\")\n",
    "rec=Rectangle(10,20)\n",
    "rec.area()\n",
    "rec.perimeter()\n",
    "print(\"Square\")\n",
    "sq=Square(10)\n",
    "sq.area()\n",
    "sq.perimeter()\n"
   ]
  },
  {
   "cell_type": "markdown",
   "id": "concerned-banana",
   "metadata": {},
   "source": [
    "### Q6. Create a class with a method. The method has to decide whether a given year is a leap year or not.\n",
    "**Note**- A year is a leap year if:  \n",
    "•\t It has an extra day i.e. 366 instead of 365.  \n",
    "•\t It occurs in every 4 year e.g. 2008, 2012 are leap years.  \n",
    "•\t For every 100 years a special rule applies-1900 is not a leap year but 2000 is a leapyear. In those cases, we need to check whether it is divisible by 400 or not.  "
   ]
  },
  {
   "cell_type": "code",
   "execution_count": 13,
   "id": "needed-california",
   "metadata": {},
   "outputs": [],
   "source": [
    "class LeapYear:\n",
    "    def check(self,year):\n",
    "        if (year % 4) == 0:  \n",
    "            if (year % 100) == 0:  \n",
    "                if (year % 400) == 0:  \n",
    "                    print(\"{} is a leap year\".format(year))  \n",
    "                else:  \n",
    "                    print(\"{} is not a leap year\".format(year))  \n",
    "            else:  \n",
    "                print(\"{} is a leap year\".format(year))  \n",
    "        else:  \n",
    "            print(\"{} is not a leap year\".format(year))  "
   ]
  },
  {
   "cell_type": "code",
   "execution_count": 14,
   "id": "national-cosmetic",
   "metadata": {},
   "outputs": [
    {
     "name": "stdout",
     "output_type": "stream",
     "text": [
      "2000 is a leap year\n"
     ]
    }
   ],
   "source": [
    "year=LeapYear()\n",
    "year.check(2000)"
   ]
  },
  {
   "cell_type": "code",
   "execution_count": null,
   "id": "blind-isaac",
   "metadata": {},
   "outputs": [],
   "source": []
  }
 ],
 "metadata": {
  "kernelspec": {
   "display_name": "Python 3",
   "language": "python",
   "name": "python3"
  },
  "language_info": {
   "codemirror_mode": {
    "name": "ipython",
    "version": 3
   },
   "file_extension": ".py",
   "mimetype": "text/x-python",
   "name": "python",
   "nbconvert_exporter": "python",
   "pygments_lexer": "ipython3",
   "version": "3.8.5"
  },
  "varInspector": {
   "cols": {
    "lenName": 16,
    "lenType": 16,
    "lenVar": 40
   },
   "kernels_config": {
    "python": {
     "delete_cmd_postfix": "",
     "delete_cmd_prefix": "del ",
     "library": "var_list.py",
     "varRefreshCmd": "print(var_dic_list())"
    },
    "r": {
     "delete_cmd_postfix": ") ",
     "delete_cmd_prefix": "rm(",
     "library": "var_list.r",
     "varRefreshCmd": "cat(var_dic_list()) "
    }
   },
   "types_to_exclude": [
    "module",
    "function",
    "builtin_function_or_method",
    "instance",
    "_Feature"
   ],
   "window_display": false
  }
 },
 "nbformat": 4,
 "nbformat_minor": 5
}
