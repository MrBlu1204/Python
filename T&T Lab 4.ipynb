{
 "cells": [
  {
   "cell_type": "markdown",
   "metadata": {},
   "source": [
    "# T&T Lab - 13th Jan\n",
    "## Manish Ranjan Behera (1828249)"
   ]
  },
  {
   "cell_type": "markdown",
   "metadata": {},
   "source": [
    "## Dictionary"
   ]
  },
  {
   "cell_type": "code",
   "execution_count": 1,
   "metadata": {},
   "outputs": [
    {
     "name": "stdout",
     "output_type": "stream",
     "text": [
      "{'h': 8, 'm': 13, 'e': 5}\n"
     ]
    }
   ],
   "source": [
    "dictionary={'h':8,'m':13,'e':5}\n",
    "print(dictionary)"
   ]
  },
  {
   "cell_type": "code",
   "execution_count": 2,
   "metadata": {},
   "outputs": [
    {
     "name": "stdout",
     "output_type": "stream",
     "text": [
      "{'h': 8, 'm': 13, 'e': 5}\n"
     ]
    }
   ],
   "source": [
    "dic=dictionary.copy()\n",
    "print(dic)   "
   ]
  },
  {
   "cell_type": "code",
   "execution_count": 3,
   "metadata": {},
   "outputs": [
    {
     "name": "stdout",
     "output_type": "stream",
     "text": [
      "{'m': 13, 'e': 5}\n"
     ]
    }
   ],
   "source": [
    "del dic['h']\n",
    "print(dic)"
   ]
  },
  {
   "cell_type": "code",
   "execution_count": 4,
   "metadata": {},
   "outputs": [
    {
     "name": "stdout",
     "output_type": "stream",
     "text": [
      "{'m': 13, 'e': 6}\n"
     ]
    }
   ],
   "source": [
    "dic.update({'e':6})\n",
    "print(dic)"
   ]
  },
  {
   "cell_type": "markdown",
   "metadata": {},
   "source": [
    "### WAP TO PRINT A DICT WITH 7 KEYS, UPDATE THE 3RD KEY AND DELETE SECOND LAST KEY  FROM RIGHT"
   ]
  },
  {
   "cell_type": "code",
   "execution_count": 5,
   "metadata": {},
   "outputs": [
    {
     "name": "stdout",
     "output_type": "stream",
     "text": [
      "{'a': 'happy', 'b': 'manish', 'c': 'blu', 'd': 'roy', 'e': 'dhf', 'f': 'sdff', 'g': 'dgfdhfj'}\n",
      "{'a': 'happy', 'b': 'manish', 'c': 'green', 'd': 'roy', 'e': 'dhf', 'g': 'dgfdhfj'}\n"
     ]
    }
   ],
   "source": [
    "dic7={'a':'happy','b':'manish','c':'blu','d':'roy','e':'dhf','f':'sdff','g':'dgfdhfj'}\n",
    "print(dic7)\n",
    "dic7['c']='green'\n",
    "del dic7['f']\n",
    "print(dic7)"
   ]
  },
  {
   "cell_type": "markdown",
   "metadata": {},
   "source": [
    "### WAP to Check if a given key already exists in a dictionary"
   ]
  },
  {
   "cell_type": "code",
   "execution_count": 6,
   "metadata": {},
   "outputs": [
    {
     "name": "stdout",
     "output_type": "stream",
     "text": [
      "Key already Exist\n"
     ]
    }
   ],
   "source": [
    "i='c'\n",
    "if i in dic7.keys():\n",
    "    print('Key already Exist')\n",
    "else:\n",
    "    print(\"Key doesn't Exist\")"
   ]
  },
  {
   "cell_type": "markdown",
   "metadata": {},
   "source": [
    "### Dictionary Comprehension"
   ]
  },
  {
   "cell_type": "code",
   "execution_count": 7,
   "metadata": {},
   "outputs": [
    {
     "name": "stdout",
     "output_type": "stream",
     "text": [
      "{0: 0, 1: 1, 2: 4, 3: 9, 4: 16, 5: 25, 6: 36, 7: 49, 8: 64}\n"
     ]
    }
   ],
   "source": [
    "squares = {x: x*x for x in range(9)}\n",
    "\n",
    "print(squares)"
   ]
  },
  {
   "cell_type": "markdown",
   "metadata": {},
   "source": [
    "### Write a Python script to print a dictionary where the keys are numbers between 1 and 15 (both included) and the values are factorials of keys."
   ]
  },
  {
   "cell_type": "code",
   "execution_count": 8,
   "metadata": {},
   "outputs": [
    {
     "name": "stdout",
     "output_type": "stream",
     "text": [
      "{1: 1, 2: 2, 3: 6, 4: 24, 5: 120, 6: 720, 7: 5040, 8: 40320, 9: 362880, 10: 3628800, 11: 39916800, 12: 479001600, 13: 6227020800, 14: 87178291200, 15: 1307674368000}\n"
     ]
    }
   ],
   "source": [
    "factorial={1:1}\n",
    "for i in range(2,16):\n",
    "    factorial[i]=i*factorial[i-1]\n",
    "print(factorial)"
   ]
  },
  {
   "cell_type": "markdown",
   "metadata": {},
   "source": [
    "### Write a Python program to sort a dictionary by key. "
   ]
  },
  {
   "cell_type": "code",
   "execution_count": 9,
   "metadata": {},
   "outputs": [
    {
     "name": "stdout",
     "output_type": "stream",
     "text": [
      "6 : blu\n",
      "7 : yellow\n",
      "9 : red\n",
      "10 : green\n"
     ]
    }
   ],
   "source": [
    "color={9:'red',6:'blu',10:'green',7:'yellow'}\n",
    "\n",
    "for key in sorted(color):\n",
    "    print(\"{} : {}\".format(key,color[key]))"
   ]
  },
  {
   "cell_type": "markdown",
   "metadata": {},
   "source": [
    "### Write a Python program to filter a dictionary based on values."
   ]
  },
  {
   "cell_type": "code",
   "execution_count": 10,
   "metadata": {},
   "outputs": [
    {
     "name": "stdout",
     "output_type": "stream",
     "text": [
      "121\n",
      "144\n",
      "169\n"
     ]
    }
   ],
   "source": [
    "dic={x:x*x for x in range(1,20) }\n",
    "for i in dic.values():\n",
    "    if i>100 and i<180:\n",
    "        print(i)\n"
   ]
  },
  {
   "cell_type": "markdown",
   "metadata": {},
   "source": [
    "### Write a Python program to create and display all combinations of letters, selecting each letter from a different key in a dictionary."
   ]
  },
  {
   "cell_type": "code",
   "execution_count": 11,
   "metadata": {},
   "outputs": [
    {
     "name": "stdout",
     "output_type": "stream",
     "text": [
      "ace\n",
      "acf\n",
      "ade\n",
      "adf\n",
      "bce\n",
      "bcf\n",
      "bde\n",
      "bdf\n"
     ]
    }
   ],
   "source": [
    "alpha={0:['a','b'],1:['c','d'],2:['e','f']}\n",
    "\n",
    "for i in alpha[0]:\n",
    "    for j in alpha[1]:\n",
    "        for k in alpha[2]:\n",
    "            print(i+j+k)"
   ]
  },
  {
   "cell_type": "markdown",
   "metadata": {},
   "source": [
    "## Assignment"
   ]
  },
  {
   "cell_type": "markdown",
   "metadata": {},
   "source": [
    "### Write a Python program to find the average of highest 3 values in a dictionary."
   ]
  },
  {
   "cell_type": "code",
   "execution_count": 12,
   "metadata": {},
   "outputs": [
    {
     "name": "stdout",
     "output_type": "stream",
     "text": [
      "Dictionary={1: 78, 2: 4, 3: 98, 4: 69, 5: 57, 6: 14, 7: 57, 8: 88, 9: 89, 10: 55, 11: 64, 12: 100, 13: 44, 14: 91, 15: 92, 16: 49, 17: 61, 18: 52, 19: 77, 20: 54}\n",
      "Average of highest 3 values is 96.66666666666667\n"
     ]
    }
   ],
   "source": [
    "import random\n",
    "dictionary={x:random.randint(x,100) for x in range(1,21) }\n",
    "values=[x for x in dictionary.values()]\n",
    "\n",
    "# SORTING in ascending order\n",
    "for i in range(0,len(values)):\n",
    "    for j in range (i,len(values)):\n",
    "        if values[i]>values[j]:\n",
    "            temp=values[i]\n",
    "            values[i]=values[j]\n",
    "            values[j]=temp\n",
    "            \n",
    "average=(values[-1]+values[-2]+values[-3])/3\n",
    "print(f\"Dictionary={dictionary}\")\n",
    "print(f\"Average of highest 3 values is {average}\")"
   ]
  },
  {
   "cell_type": "markdown",
   "metadata": {},
   "source": [
    "### Write a Python program to get the top FIVE items in an inventry."
   ]
  },
  {
   "cell_type": "code",
   "execution_count": 13,
   "metadata": {},
   "outputs": [
    {
     "name": "stdout",
     "output_type": "stream",
     "text": [
      "Dictonary={1: 92, 2: 20, 3: 62, 4: 63, 5: 41, 6: 12, 7: 43, 8: 46, 9: 96, 10: 65, 11: 28, 12: 95, 13: 77, 14: 38, 15: 49, 16: 23, 17: 56, 18: 85, 19: 68, 20: 72}\n",
      "Top Five Items= [92, 20, 62, 63, 41]\n"
     ]
    }
   ],
   "source": [
    "import random\n",
    "dictionary={x:random.randint(x,100) for x in range(1,21) }\n",
    "values=[x for x in dictionary.values()]\n",
    "print(\"Dictonary={}\".format(dictionary))\n",
    "print(f\"Top Five Items= {values[:5]}\")"
   ]
  },
  {
   "cell_type": "markdown",
   "metadata": {},
   "source": [
    "### Write a Python program to replace dictionary values with their ASCII values"
   ]
  },
  {
   "cell_type": "code",
   "execution_count": 14,
   "metadata": {},
   "outputs": [
    {
     "name": "stdout",
     "output_type": "stream",
     "text": [
      "Original Dictionary:\n",
      " {'c': 'c', 9: '9', 'a': 'a', 'z': 'z', 1: '1'}\n",
      "Dictionary with ASCII values:\n",
      " {'c': 99, 9: 57, 'a': 97, 'z': 122, 1: 49}\n"
     ]
    }
   ],
   "source": [
    "dictionary={'c':'c',9:'9','a':'a','z':'z',1:'1'}\n",
    "print(f'Original Dictionary:\\n {dictionary}')\n",
    "for i in dictionary.keys():\n",
    "    dictionary[i]=ord(dictionary[i])\n",
    "print(f'Dictionary with ASCII values:\\n {dictionary}')"
   ]
  },
  {
   "cell_type": "markdown",
   "metadata": {},
   "source": [
    "### Write a Python program to create a dictionary of keys p, q, and r where each key has as value a list from 101-120, 201-220, and 301-320 respectively. Display the seventh (both from beginning and end)value of each key from the dictionary"
   ]
  },
  {
   "cell_type": "code",
   "execution_count": 15,
   "metadata": {},
   "outputs": [
    {
     "name": "stdout",
     "output_type": "stream",
     "text": [
      "p: Seventh item fomm the Beginning is 107, and from the End is 114\n",
      "q: Seventh item fomm the Beginning is 207, and from the End is 214\n",
      "r: Seventh item fomm the Beginning is 307, and from the End is 314\n"
     ]
    }
   ],
   "source": [
    "dicPQR={'p':[x for x in range(101,121)],'q':[x for x in range(201,221)],'r':[x for x in range(301,321)]}\n",
    "for i in dicPQR.keys():\n",
    "    print(\"{}: Seventh item fomm the Beginning is {}, and from the End is {}\".format(i,dicPQR[i][6],dicPQR[i][-7]))"
   ]
  },
  {
   "cell_type": "code",
   "execution_count": null,
   "metadata": {},
   "outputs": [],
   "source": []
  }
 ],
 "metadata": {
  "kernelspec": {
   "display_name": "Python 3",
   "language": "python",
   "name": "python3"
  },
  "language_info": {
   "codemirror_mode": {
    "name": "ipython",
    "version": 3
   },
   "file_extension": ".py",
   "mimetype": "text/x-python",
   "name": "python",
   "nbconvert_exporter": "python",
   "pygments_lexer": "ipython3",
   "version": "3.8.5"
  }
 },
 "nbformat": 4,
 "nbformat_minor": 4
}
