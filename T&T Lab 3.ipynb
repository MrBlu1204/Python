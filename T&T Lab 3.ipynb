{
 "cells": [
  {
   "cell_type": "markdown",
   "metadata": {},
   "source": [
    "# T&T Lab - 8th Jan\n",
    " ## Manish Ranjan Behera (1828249)"
   ]
  },
  {
   "cell_type": "markdown",
   "metadata": {},
   "source": [
    "### Write a Python program to get the largest number from a list."
   ]
  },
  {
   "cell_type": "code",
   "execution_count": 1,
   "metadata": {},
   "outputs": [
    {
     "name": "stdout",
     "output_type": "stream",
     "text": [
      "23\n"
     ]
    }
   ],
   "source": [
    "a=[2,4,6,9,1,3,23,8,5]\n",
    "max=a[0]\n",
    "for i in a:\n",
    "    if max<i:\n",
    "        max=i\n",
    "print(max)"
   ]
  },
  {
   "cell_type": "markdown",
   "metadata": {},
   "source": [
    "### Write a Python program to sum all the items in a list"
   ]
  },
  {
   "cell_type": "code",
   "execution_count": 2,
   "metadata": {},
   "outputs": [
    {
     "name": "stdout",
     "output_type": "stream",
     "text": [
      "61\n"
     ]
    }
   ],
   "source": [
    "a=[2,4,6,9,1,3,23,8,5]\n",
    "q=0\n",
    "for i in a:\n",
    "    q=q+i\n",
    "print(q)"
   ]
  },
  {
   "cell_type": "markdown",
   "metadata": {},
   "source": [
    "### Write a Python program to get a list sorted in decreasing order "
   ]
  },
  {
   "cell_type": "code",
   "execution_count": 3,
   "metadata": {},
   "outputs": [
    {
     "name": "stdout",
     "output_type": "stream",
     "text": [
      "[23, 9, 8, 6, 5, 4, 3, 2, 1]\n"
     ]
    }
   ],
   "source": [
    "a=[2,4,6,9,1,3,23,8,5]\n",
    "for i in range(0,len(a)):\n",
    "    for j in range (i,len(a)):\n",
    "        if a[i]<a[j]:\n",
    "            temp=a[i]\n",
    "            a[i]=a[j]\n",
    "            a[j]=temp\n",
    "print(a)"
   ]
  },
  {
   "cell_type": "markdown",
   "metadata": {},
   "source": [
    "### Write a Python program to clone or copy a list."
   ]
  },
  {
   "cell_type": "code",
   "execution_count": 4,
   "metadata": {},
   "outputs": [
    {
     "name": "stdout",
     "output_type": "stream",
     "text": [
      "[2, 4, 6, 9, 1, 3, 23, 8, 5]\n"
     ]
    }
   ],
   "source": [
    "a=[2,4,6,9,1,3,23,8,5]\n",
    "c=a[:]\n",
    "print(c)"
   ]
  },
  {
   "cell_type": "markdown",
   "metadata": {},
   "source": [
    "### Write a Python program to get the frequency of the elements in a list."
   ]
  },
  {
   "cell_type": "code",
   "execution_count": 5,
   "metadata": {},
   "outputs": [
    {
     "name": "stdout",
     "output_type": "stream",
     "text": [
      "1 = 3\n",
      "w = 2\n",
      "6 = 2\n",
      "r = 1\n"
     ]
    }
   ],
   "source": [
    "l=['w',1,6,'r','w',6,1,1]\n",
    "c=set(l)\n",
    "for i in c:\n",
    "    freq=0\n",
    "    for j in l:\n",
    "        if i==j:\n",
    "            freq = freq+1\n",
    "    print(\"{} = {}\".format(i,freq))"
   ]
  },
  {
   "cell_type": "markdown",
   "metadata": {},
   "source": [
    "### WAP TO  SEPARATE THE STRING VALUES FROM A LIST WITH DIFFRENT DATATYPES AND ALSO COUNT THEIR FREQUENCY"
   ]
  },
  {
   "cell_type": "code",
   "execution_count": 6,
   "metadata": {},
   "outputs": [
    {
     "name": "stdout",
     "output_type": "stream",
     "text": [
      "<class 'int'> = 6\n",
      "<class 'list'> = 1\n",
      "<class 'str'> = 4\n"
     ]
    }
   ],
   "source": [
    "l=['wjadb',1,6,'rvsd','wcnd',6,1,'sdha',1,5,[3,4,6]]\n",
    "typedef=[]\n",
    "for i in l:\n",
    "    typedef.append(type(i))\n",
    "c=set(typedef)\n",
    "for i in c:\n",
    "    freq=0\n",
    "    for j in l:\n",
    "        if i==type(j):\n",
    "            freq = freq+1\n",
    "    print(\"{} = {}\".format(i,freq))\n"
   ]
  },
  {
   "cell_type": "markdown",
   "metadata": {},
   "source": [
    "### WAP TO JOIN 2 LIST AND FIND THE SMALLEST  ELEMENT FROM THE THIRD LIST"
   ]
  },
  {
   "cell_type": "code",
   "execution_count": 7,
   "metadata": {},
   "outputs": [
    {
     "name": "stdout",
     "output_type": "stream",
     "text": [
      "1\n"
     ]
    }
   ],
   "source": [
    "list1=[1,'r',5,'sadd',8,6]\n",
    "list2=[3,9,'eadd','ad','adadd',5,9,8,3]\n",
    "list3=list1+list2\n",
    "minimun=None\n",
    "for i in list3:\n",
    "    if type(i)==int:\n",
    "        minimum=i\n",
    "        break\n",
    "for i in list3:\n",
    "    if type(i)==int and i<minimum:\n",
    "        minimum=i\n",
    "print(minimum)"
   ]
  },
  {
   "cell_type": "markdown",
   "metadata": {},
   "source": [
    "# Assignment"
   ]
  },
  {
   "cell_type": "markdown",
   "metadata": {},
   "source": [
    "### Write a Python program to check whether a list contains a sublist. "
   ]
  },
  {
   "cell_type": "code",
   "execution_count": 8,
   "metadata": {},
   "outputs": [
    {
     "name": "stdout",
     "output_type": "stream",
     "text": [
      "List contains a sub-list\n"
     ]
    }
   ],
   "source": [
    "l=['wjadb',[1,6,'asad'],'rvsd','wcnd',6,1,'sdha',1,5,[3,4,6]]\n",
    "for i in l:\n",
    "    if type(i)==list:\n",
    "        print('List contains a sub-list')\n",
    "        break\n"
   ]
  },
  {
   "cell_type": "markdown",
   "metadata": {},
   "source": [
    "### Write a Python program to find common items from two lists."
   ]
  },
  {
   "cell_type": "code",
   "execution_count": 9,
   "metadata": {},
   "outputs": [
    {
     "name": "stdout",
     "output_type": "stream",
     "text": [
      "Common Items:\n",
      "5\n",
      "8\n",
      "9\n",
      "ad\n"
     ]
    }
   ],
   "source": [
    "list1=[1,9,6,'r','ad',5,'sadd',8,6]\n",
    "list2=[3,9,'eadd','ad','adadd',5,9,8,3]\n",
    "c=set(list1)\n",
    "print('Common Items:')\n",
    "for i in c:\n",
    "    for j in list2:\n",
    "        if i==j:\n",
    "            print(i)\n",
    "            break"
   ]
  },
  {
   "cell_type": "markdown",
   "metadata": {},
   "source": [
    "### Write a Python program to split a list of 20 elements after every 4th element"
   ]
  },
  {
   "cell_type": "code",
   "execution_count": 10,
   "metadata": {},
   "outputs": [
    {
     "name": "stdout",
     "output_type": "stream",
     "text": [
      "[3, 'eadd', 'ad', 'adadd']\n",
      "[5, 9, 8, 3]\n",
      "[9.0, 34, 98, 11]\n",
      "[67, 1, 9, 6]\n",
      "['r', 'ad', 5, 'sadd']\n"
     ]
    }
   ],
   "source": [
    "a=[3,'eadd','ad','adadd',5,9,8,3,9.0,34,98,11,67,1,9,6,'r','ad',5,'sadd']\n",
    "i=0\n",
    "j=4\n",
    "while i<len(a):\n",
    "    print(a[i:j])\n",
    "    i+=4\n",
    "    j+=4\n"
   ]
  },
  {
   "cell_type": "code",
   "execution_count": null,
   "metadata": {},
   "outputs": [],
   "source": []
  }
 ],
 "metadata": {
  "kernelspec": {
   "display_name": "Python 3",
   "language": "python",
   "name": "python3"
  },
  "language_info": {
   "codemirror_mode": {
    "name": "ipython",
    "version": 3
   },
   "file_extension": ".py",
   "mimetype": "text/x-python",
   "name": "python",
   "nbconvert_exporter": "python",
   "pygments_lexer": "ipython3",
   "version": "3.8.5"
  }
 },
 "nbformat": 4,
 "nbformat_minor": 4
}
