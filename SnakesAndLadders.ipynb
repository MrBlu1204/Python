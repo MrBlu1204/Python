{
 "cells": [
  {
   "cell_type": "markdown",
   "metadata": {},
   "source": [
    "# Snakes & Ladders"
   ]
  },
  {
   "cell_type": "markdown",
   "metadata": {},
   "source": [
    "#### Importing Random Library"
   ]
  },
  {
   "cell_type": "code",
   "execution_count": 1,
   "metadata": {
    "scrolled": true
   },
   "outputs": [],
   "source": [
    "import random\n",
    "snakes={17 : 7, 54 : 34, 62 : 19, 98 : 79}                       #intializing starting and ending positions of the snakes\n",
    "ladders={3 : 38, 24 : 33, 42 : 93, 72 : 84}                      #intializing starting and ending positions of the ladders"
   ]
  },
  {
   "cell_type": "markdown",
   "metadata": {},
   "source": [
    "#### Defining Functions "
   ]
  },
  {
   "cell_type": "code",
   "execution_count": 2,
   "metadata": {
    "scrolled": true
   },
   "outputs": [],
   "source": [
    "#Rolling the Dice\n",
    "def roll(player,pos,i):\n",
    "    print(f'{player[i]} ',end=':')\n",
    "    mode=input(' ')                                                  #user input\n",
    "    \n",
    "    if mode=='roll':                                                 #for auto mode\n",
    "        cast=random.randint(1,6)\n",
    "        print(f\"\\tYou got a {cast}\")\n",
    "        return cast\n",
    "    \n",
    "    elif mode.isdecimal() and int(mode)>0 and int(mode)<=20:         #for manual-mode\n",
    "        cast=int(mode)\n",
    "        print(f\"\\tYou got a {cast}\")\n",
    "        return cast\n",
    "    \n",
    "    elif mode=='quit':                                               #if the player wants to quit\n",
    "        print(f\"\\t{player[i]} has QUIT the game.\")\n",
    "        pos[i-1]=100\n",
    "        winnerCheck(pos[i-1],player[i-1])                            #to print congratulatory message for the other player\n",
    "        return mode\n",
    "    \n",
    "    else:                                                            #incase of undefined input\n",
    "        print('\\tInvalid Input(Type \"roll\" for auto-mode or a number between 1 - 20 for manual-mode or \"quit\" to quit)')\n",
    "        print(\"\\tRETRY\",end='  ')\n",
    "        return roll(player,pos,i)\n",
    "    "
   ]
  },
  {
   "cell_type": "code",
   "execution_count": 3,
   "metadata": {
    "scrolled": true
   },
   "outputs": [],
   "source": [
    "#to calculate the final position of the player\n",
    "def position(pos,num):        \n",
    "    pos=pos+num\n",
    "    if pos>100:                                       #to avoid overshooting the position\n",
    "        pos=100\n",
    "        \n",
    "    elif pos in snakes.keys():                        #player lands on a snake\n",
    "        pos=snakes[pos]\n",
    "        print(\"\\tOh No!, You landed on a Snake\")\n",
    "        \n",
    "    elif pos in ladders.keys():                       #player finds a ladder\n",
    "        pos=ladders[pos]\n",
    "        print(\"\\tWow!, You found a Ladder\")\n",
    "    else:\n",
    "        pos+=0                                        #if the position is <=100 and \n",
    "                                                      #the players doesn't lands on a snake or a ladder\n",
    "    print(f\"\\t\\tYour Final Position is {pos}\")\n",
    "    return pos"
   ]
  },
  {
   "cell_type": "code",
   "execution_count": 4,
   "metadata": {
    "scrolled": true
   },
   "outputs": [],
   "source": [
    "#to print congratulatory message\n",
    "def winnerCheck(pos,player):                                    \n",
    "    if pos==100:\n",
    "        print(f\"\\tCONGRATULATIONS! {player} won the game.\")\n",
    "        print('#'*10 +' Game Sucessfully Finished '+'#'*10)\n",
    "        return True\n",
    "    else:\n",
    "        return False                                    #not to end the game"
   ]
  },
  {
   "cell_type": "code",
   "execution_count": 5,
   "metadata": {
    "scrolled": false
   },
   "outputs": [
    {
     "name": "stdout",
     "output_type": "stream",
     "text": [
      "########## Welcome to Snakes & Ladders Game ##########\n",
      "Enter your Names:\n",
      "PLAYER 1: Mr Blu\n",
      "PLAYER 2: Rayden\n",
      "########## Let Us START ##########\n",
      "Mr Blu : roll\n",
      "\tYou got a 3\n",
      "\tWow!, You found a Ladder\n",
      "\t\tYour Final Position is 38\n",
      "Rayden : roll\n",
      "\tYou got a 5\n",
      "\t\tYour Final Position is 5\n",
      "Mr Blu : 5\n",
      "\tYou got a 5\n",
      "\t\tYour Final Position is 43\n",
      "Rayden : 9\n",
      "\tYou got a 9\n",
      "\t\tYour Final Position is 14\n",
      "Mr Blu : roll\n",
      "\tYou got a 4\n",
      "\t\tYour Final Position is 47\n",
      "Rayden : rol\n",
      "\tInvalid Input(Type \"roll\" for auto-mode or a number between 1 - 20 for manual-mode or \"quit\" to quit)\n",
      "\tRETRY  Rayden : 45\n",
      "\tInvalid Input(Type \"roll\" for auto-mode or a number between 1 - 20 for manual-mode or \"quit\" to quit)\n",
      "\tRETRY  Rayden : 2\n",
      "\tYou got a 2\n",
      "\t\tYour Final Position is 16\n",
      "Mr Blu : roll\n",
      "\tYou got a 1\n",
      "\t\tYour Final Position is 48\n",
      "Rayden : roll\n",
      "\tYou got a 6\n",
      "\t\tYour Final Position is 22\n",
      "Mr Blu : roll\n",
      "\tYou got a 2\n",
      "\t\tYour Final Position is 50\n",
      "Rayden : roll\n",
      "\tYou got a 1\n",
      "\t\tYour Final Position is 23\n",
      "Mr Blu : roll\n",
      "\tYou got a 5\n",
      "\t\tYour Final Position is 55\n",
      "Rayden : roll\n",
      "\tYou got a 4\n",
      "\t\tYour Final Position is 27\n",
      "Mr Blu : roll\n",
      "\tYou got a 2\n",
      "\t\tYour Final Position is 57\n",
      "Rayden : roll\n",
      "\tYou got a 3\n",
      "\t\tYour Final Position is 30\n",
      "Mr Blu : roll\n",
      "\tYou got a 6\n",
      "\t\tYour Final Position is 63\n",
      "Rayden : roll\n",
      "\tYou got a 4\n",
      "\t\tYour Final Position is 34\n",
      "Mr Blu : roll\n",
      "\tYou got a 1\n",
      "\t\tYour Final Position is 64\n",
      "Rayden : 6\n",
      "\tYou got a 6\n",
      "\t\tYour Final Position is 40\n",
      "Mr Blu : 4\n",
      "\tYou got a 4\n",
      "\t\tYour Final Position is 68\n",
      "Rayden : 5\n",
      "\tYou got a 5\n",
      "\t\tYour Final Position is 45\n",
      "Mr Blu : 9\n",
      "\tYou got a 9\n",
      "\t\tYour Final Position is 77\n",
      "Rayden : roll\n",
      "\tYou got a 3\n",
      "\t\tYour Final Position is 48\n",
      "Mr Blu : 9\n",
      "\tYou got a 9\n",
      "\t\tYour Final Position is 86\n",
      "Rayden : roll\n",
      "\tYou got a 2\n",
      "\t\tYour Final Position is 50\n",
      "Mr Blu : roll\n",
      "\tYou got a 6\n",
      "\t\tYour Final Position is 92\n",
      "Rayden : roll\n",
      "\tYou got a 6\n",
      "\t\tYour Final Position is 56\n",
      "Mr Blu : roll\n",
      "\tYou got a 6\n",
      "\tOh No!, You landed on a Snake\n",
      "\t\tYour Final Position is 79\n",
      "Rayden : roll\n",
      "\tYou got a 3\n",
      "\t\tYour Final Position is 59\n",
      "Mr Blu : 5\n",
      "\tYou got a 5\n",
      "\t\tYour Final Position is 84\n",
      "Rayden : 28\n",
      "\tInvalid Input(Type \"roll\" for auto-mode or a number between 1 - 20 for manual-mode or \"quit\" to quit)\n",
      "\tRETRY  Rayden : 12\n",
      "\tYou got a 12\n",
      "\t\tYour Final Position is 71\n",
      "Mr Blu : 5\n",
      "\tYou got a 5\n",
      "\t\tYour Final Position is 89\n",
      "Rayden : 3\n",
      "\tYou got a 3\n",
      "\t\tYour Final Position is 74\n",
      "Mr Blu : roll\n",
      "\tYou got a 1\n",
      "\t\tYour Final Position is 90\n",
      "Rayden : 5\n",
      "\tYou got a 5\n",
      "\t\tYour Final Position is 79\n",
      "Mr Blu : roll\n",
      "\tYou got a 4\n",
      "\t\tYour Final Position is 94\n",
      "Rayden : roll\n",
      "\tYou got a 6\n",
      "\t\tYour Final Position is 85\n",
      "Mr Blu : roll\n",
      "\tYou got a 1\n",
      "\t\tYour Final Position is 95\n",
      "Rayden : roll\n",
      "\tYou got a 6\n",
      "\t\tYour Final Position is 91\n",
      "Mr Blu : quit\n",
      "\tMr Blu has QUIT the game.\n",
      "\tCONGRATULATIONS! Rayden won the game.\n",
      "########## Game Sucessfully Finished ##########\n"
     ]
    }
   ],
   "source": [
    "#The Snakes and Ladders Game\n",
    "pos=[0,0]                                               #initializing players initial position\n",
    "print('#'*10+\" Welcome to Snakes & Ladders Game \"+'#'*10)\n",
    "print(\"Enter your Names:\")\n",
    "player1=input(\"PLAYER 1: \")\n",
    "player2=input(\"PLAYER 2: \")\n",
    "player=(player1,player2)                                #initializing players Name\n",
    "print('#'*10+\" Let Us START \"+'#'*10)\n",
    "while pos[0]!=100 and pos[1]!=100:                      #game to continues till one of the player reaches the final position\n",
    "    num=roll(player,pos,0)\n",
    "    if num=='quit':                                     #to end the game if the player quits\n",
    "        break\n",
    "    pos[0]=position(pos[0],num)\n",
    "    if winnerCheck(pos,player[0]):                      #to end the game if Player 1 wins\n",
    "        break\n",
    "    num=roll(player,pos,1)\n",
    "    if num=='quit':                                     #to end the game if the player quits\n",
    "        break\n",
    "    pos[1]=position(pos[1],num)\n",
    "    winnerCheck(pos,player[1])"
   ]
  },
  {
   "cell_type": "markdown",
   "metadata": {},
   "source": [
    "## Manish Ranjan Behera\n",
    "### 1828249  - Voldemort"
   ]
  },
  {
   "cell_type": "code",
   "execution_count": null,
   "metadata": {
    "scrolled": true
   },
   "outputs": [],
   "source": []
  }
 ],
 "metadata": {
  "kernelspec": {
   "display_name": "Python 3",
   "language": "python",
   "name": "python3"
  },
  "language_info": {
   "codemirror_mode": {
    "name": "ipython",
    "version": 3
   },
   "file_extension": ".py",
   "mimetype": "text/x-python",
   "name": "python",
   "nbconvert_exporter": "python",
   "pygments_lexer": "ipython3",
   "version": "3.8.5"
  },
  "varInspector": {
   "cols": {
    "lenName": 16,
    "lenType": 16,
    "lenVar": 40
   },
   "kernels_config": {
    "python": {
     "delete_cmd_postfix": "",
     "delete_cmd_prefix": "del ",
     "library": "var_list.py",
     "varRefreshCmd": "print(var_dic_list())"
    },
    "r": {
     "delete_cmd_postfix": ") ",
     "delete_cmd_prefix": "rm(",
     "library": "var_list.r",
     "varRefreshCmd": "cat(var_dic_list()) "
    }
   },
   "types_to_exclude": [
    "module",
    "function",
    "builtin_function_or_method",
    "instance",
    "_Feature"
   ],
   "window_display": false
  }
 },
 "nbformat": 4,
 "nbformat_minor": 4
}
