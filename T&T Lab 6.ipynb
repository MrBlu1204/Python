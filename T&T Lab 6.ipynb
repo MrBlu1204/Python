{
 "cells": [
  {
   "cell_type": "markdown",
   "metadata": {},
   "source": [
    "# T&T Lab - 20th Jan\n",
    "## Manish Ranjan Behera (1828249)"
   ]
  },
  {
   "cell_type": "markdown",
   "metadata": {},
   "source": [
    "### _Find the square and cube of a number_"
   ]
  },
  {
   "cell_type": "code",
   "execution_count": 1,
   "metadata": {},
   "outputs": [
    {
     "name": "stdout",
     "output_type": "stream",
     "text": [
      "Enter a Number:6\n",
      "Enter it's Exponent:2\n",
      "6 raised to the power 2 is 36\n"
     ]
    }
   ],
   "source": [
    "#Method1\n",
    "n=int(input(\"Enter a Number:\"))\n",
    "e=int(input(\"Enter it's Exponent:\"))\n",
    "print(\"{} raised to the power {} is {}\".format(n,e,n**e))"
   ]
  },
  {
   "cell_type": "code",
   "execution_count": 2,
   "metadata": {},
   "outputs": [
    {
     "name": "stdout",
     "output_type": "stream",
     "text": [
      "Enter a Number:8\n",
      "Type 'Square' for square and 'Cube' for cube: Cube\n",
      "Cube of 8 is 512\n"
     ]
    }
   ],
   "source": [
    "#Method2\n",
    "n=int(input(\"Enter a Number:\"))\n",
    "e=input(\"Type 'Square' for square and 'Cube' for cube: \")\n",
    "\n",
    "if e=='Square':\n",
    "    r=n**2\n",
    "elif e=='Cube':\n",
    "    r=n**3\n",
    "else:\n",
    "    print(\"Invalid Input\")\n",
    "    \n",
    "print(\"{} of {} is {}\".format(e,n,r))"
   ]
  },
  {
   "cell_type": "markdown",
   "metadata": {},
   "source": [
    "### _WAP TO MATCH WHETHER YOUR GUESED VALUES ARE SAME AS THAT OF SCORED VALUES AND ALSO FIND THE GRADES OF SCORED VALUES_"
   ]
  },
  {
   "cell_type": "code",
   "execution_count": 3,
   "metadata": {},
   "outputs": [
    {
     "data": {
      "text/html": [
       "<div>\n",
       "<style scoped>\n",
       "    .dataframe tbody tr th:only-of-type {\n",
       "        vertical-align: middle;\n",
       "    }\n",
       "\n",
       "    .dataframe tbody tr th {\n",
       "        vertical-align: top;\n",
       "    }\n",
       "\n",
       "    .dataframe thead th {\n",
       "        text-align: right;\n",
       "    }\n",
       "</style>\n",
       "<table border=\"1\" class=\"dataframe\">\n",
       "  <thead>\n",
       "    <tr style=\"text-align: right;\">\n",
       "      <th></th>\n",
       "      <th>Percentage</th>\n",
       "    </tr>\n",
       "  </thead>\n",
       "  <tbody>\n",
       "    <tr>\n",
       "      <th>BD</th>\n",
       "      <td>14</td>\n",
       "    </tr>\n",
       "    <tr>\n",
       "      <th>CC</th>\n",
       "      <td>97</td>\n",
       "    </tr>\n",
       "    <tr>\n",
       "      <th>ESDA</th>\n",
       "      <td>79</td>\n",
       "    </tr>\n",
       "    <tr>\n",
       "      <th>CG</th>\n",
       "      <td>31</td>\n",
       "    </tr>\n",
       "    <tr>\n",
       "      <th>DMDW</th>\n",
       "      <td>81</td>\n",
       "    </tr>\n",
       "  </tbody>\n",
       "</table>\n",
       "</div>"
      ],
      "text/plain": [
       "      Percentage\n",
       "BD            14\n",
       "CC            97\n",
       "ESDA          79\n",
       "CG            31\n",
       "DMDW          81"
      ]
     },
     "execution_count": 3,
     "metadata": {},
     "output_type": "execute_result"
    }
   ],
   "source": [
    "import pandas as pd\n",
    "import numpy as np\n",
    "import random\n",
    "\n",
    "#Report Card\n",
    "subjects=['BD','CC','ESDA','CG','DMDW']\n",
    "scoredValues=pd.DataFrame(data=[random.randint(10,101) for x in range(1,6)],index=subjects,columns=['Percentage'])\n",
    "scoredValues"
   ]
  },
  {
   "cell_type": "code",
   "execution_count": 4,
   "metadata": {},
   "outputs": [
    {
     "name": "stdout",
     "output_type": "stream",
     "text": [
      "Guess the Percentage scored in : \n",
      "BD :34\n",
      "\tYour Guess is Wrong!,You scored 14 in BD\n",
      "CC :97\n",
      "\tYou Guessed Correctly!,You scored 97 in CC\n",
      "ESDA :79\n",
      "\tYou Guessed Correctly!,You scored 79 in ESDA\n",
      "CG :67\n",
      "\tYour Guess is Wrong!,You scored 31 in CG\n",
      "DMDW :81\n",
      "\tYou Guessed Correctly!,You scored 81 in DMDW\n"
     ]
    }
   ],
   "source": [
    "#Guess Work\n",
    "print(\"Guess the Percentage scored in : \")\n",
    "for i in subjects:\n",
    "    print(i,end=' :')\n",
    "    if int(input(\"\"))==scoredValues.loc[i,'Percentage']:\n",
    "        print(\"\\tYou Guessed Correctly!,You scored {} in {}\".format(scoredValues.loc[i,'Percentage'],i))\n",
    "    else:\n",
    "        print(\"\\tYour Guess is Wrong!,You scored {} in {}\".format(scoredValues.loc[i,'Percentage'],i))"
   ]
  },
  {
   "cell_type": "code",
   "execution_count": 5,
   "metadata": {},
   "outputs": [
    {
     "data": {
      "text/html": [
       "<div>\n",
       "<style scoped>\n",
       "    .dataframe tbody tr th:only-of-type {\n",
       "        vertical-align: middle;\n",
       "    }\n",
       "\n",
       "    .dataframe tbody tr th {\n",
       "        vertical-align: top;\n",
       "    }\n",
       "\n",
       "    .dataframe thead th {\n",
       "        text-align: right;\n",
       "    }\n",
       "</style>\n",
       "<table border=\"1\" class=\"dataframe\">\n",
       "  <thead>\n",
       "    <tr style=\"text-align: right;\">\n",
       "      <th></th>\n",
       "      <th>Percentage</th>\n",
       "      <th>Grade</th>\n",
       "    </tr>\n",
       "  </thead>\n",
       "  <tbody>\n",
       "    <tr>\n",
       "      <th>BD</th>\n",
       "      <td>14</td>\n",
       "      <td>Fail</td>\n",
       "    </tr>\n",
       "    <tr>\n",
       "      <th>CC</th>\n",
       "      <td>97</td>\n",
       "      <td>O</td>\n",
       "    </tr>\n",
       "    <tr>\n",
       "      <th>ESDA</th>\n",
       "      <td>79</td>\n",
       "      <td>A</td>\n",
       "    </tr>\n",
       "    <tr>\n",
       "      <th>CG</th>\n",
       "      <td>31</td>\n",
       "      <td>Fail</td>\n",
       "    </tr>\n",
       "    <tr>\n",
       "      <th>DMDW</th>\n",
       "      <td>81</td>\n",
       "      <td>E</td>\n",
       "    </tr>\n",
       "  </tbody>\n",
       "</table>\n",
       "</div>"
      ],
      "text/plain": [
       "      Percentage Grade\n",
       "BD            14  Fail\n",
       "CC            97     O\n",
       "ESDA          79     A\n",
       "CG            31  Fail\n",
       "DMDW          81     E"
      ]
     },
     "execution_count": 5,
     "metadata": {},
     "output_type": "execute_result"
    }
   ],
   "source": [
    "#Grading\n",
    "def grade(percent):\n",
    "    if 100>=percent>90:\n",
    "        return \"O\"\n",
    "    elif 90>=percent>80:\n",
    "        return \"E\"\n",
    "    elif 80>=percent>70:\n",
    "        return \"A\"\n",
    "    elif 70>=percent>60:\n",
    "        return \"B\"\n",
    "    elif 60>=percent>50:\n",
    "        return \"C\"\n",
    "    elif 50>=percent>40:\n",
    "        return \"D\"\n",
    "    else:\n",
    "        return \"Fail\"\n",
    "\n",
    "scoredValues['Grade']=scoredValues['Percentage'].agg(grade)\n",
    "scoredValues"
   ]
  },
  {
   "cell_type": "markdown",
   "metadata": {},
   "source": [
    "### _WAP TO PREPARE A SHOPPING LIST, ATLEAST 10 INPUTS AND TO DISPLAY THE ITEM WHICH HAS MAX PRIORITY_"
   ]
  },
  {
   "cell_type": "code",
   "execution_count": 6,
   "metadata": {},
   "outputs": [
    {
     "name": "stdout",
     "output_type": "stream",
     "text": [
      "No. of Items:10\n",
      "Item: Eggs\n",
      "Item: Bread\n",
      "Item: Butter\n",
      "Item: Flour\n",
      "Item: Rice\n",
      "Item: Noodles\n",
      "Item: Socks\n",
      "Item: Ketchup\n",
      "Item: Biscuits\n",
      "Item: Chocholates\n"
     ]
    },
    {
     "data": {
      "text/html": [
       "<div>\n",
       "<style scoped>\n",
       "    .dataframe tbody tr th:only-of-type {\n",
       "        vertical-align: middle;\n",
       "    }\n",
       "\n",
       "    .dataframe tbody tr th {\n",
       "        vertical-align: top;\n",
       "    }\n",
       "\n",
       "    .dataframe thead th {\n",
       "        text-align: right;\n",
       "    }\n",
       "</style>\n",
       "<table border=\"1\" class=\"dataframe\">\n",
       "  <thead>\n",
       "    <tr style=\"text-align: right;\">\n",
       "      <th></th>\n",
       "      <th>Item</th>\n",
       "      <th>Quantity</th>\n",
       "    </tr>\n",
       "  </thead>\n",
       "  <tbody>\n",
       "    <tr>\n",
       "      <th>1</th>\n",
       "      <td>Eggs</td>\n",
       "      <td>6</td>\n",
       "    </tr>\n",
       "    <tr>\n",
       "      <th>2</th>\n",
       "      <td>Bread</td>\n",
       "      <td>7</td>\n",
       "    </tr>\n",
       "    <tr>\n",
       "      <th>3</th>\n",
       "      <td>Butter</td>\n",
       "      <td>15</td>\n",
       "    </tr>\n",
       "    <tr>\n",
       "      <th>4</th>\n",
       "      <td>Flour</td>\n",
       "      <td>4</td>\n",
       "    </tr>\n",
       "    <tr>\n",
       "      <th>5</th>\n",
       "      <td>Rice</td>\n",
       "      <td>10</td>\n",
       "    </tr>\n",
       "    <tr>\n",
       "      <th>6</th>\n",
       "      <td>Noodles</td>\n",
       "      <td>8</td>\n",
       "    </tr>\n",
       "    <tr>\n",
       "      <th>7</th>\n",
       "      <td>Socks</td>\n",
       "      <td>7</td>\n",
       "    </tr>\n",
       "    <tr>\n",
       "      <th>8</th>\n",
       "      <td>Ketchup</td>\n",
       "      <td>12</td>\n",
       "    </tr>\n",
       "    <tr>\n",
       "      <th>9</th>\n",
       "      <td>Biscuits</td>\n",
       "      <td>14</td>\n",
       "    </tr>\n",
       "    <tr>\n",
       "      <th>10</th>\n",
       "      <td>Chocholates</td>\n",
       "      <td>1</td>\n",
       "    </tr>\n",
       "  </tbody>\n",
       "</table>\n",
       "</div>"
      ],
      "text/plain": [
       "           Item  Quantity\n",
       "1          Eggs         6\n",
       "2         Bread         7\n",
       "3        Butter        15\n",
       "4         Flour         4\n",
       "5          Rice        10\n",
       "6       Noodles         8\n",
       "7         Socks         7\n",
       "8       Ketchup        12\n",
       "9      Biscuits        14\n",
       "10  Chocholates         1"
      ]
     },
     "execution_count": 6,
     "metadata": {},
     "output_type": "execute_result"
    }
   ],
   "source": [
    "items=int(input('No. of Items:'))\n",
    "itemList=[(input(\"Item: \"),random.randint(1,15)) for x in range(1,items+1)]\n",
    "shoppingList=pd.DataFrame(data=itemList,index=[x for x in range(1,len(itemList)+1)],columns=['Item','Quantity'])\n",
    "#Shopping List\n",
    "shoppingList"
   ]
  },
  {
   "cell_type": "code",
   "execution_count": 7,
   "metadata": {},
   "outputs": [
    {
     "name": "stdout",
     "output_type": "stream",
     "text": [
      "Butter has the highest Priority\n"
     ]
    }
   ],
   "source": [
    "#Higher the quantity Higher the Priority\n",
    "priority=shoppingList.index.values[1]\n",
    "for i in shoppingList.index.values:\n",
    "    if shoppingList.loc[priority,'Quantity']<shoppingList.loc[i,'Quantity']:\n",
    "        priority=i\n",
    "\n",
    "print(\"{} has the highest Priority\".format(shoppingList.loc[priority,'Item']))"
   ]
  },
  {
   "cell_type": "markdown",
   "metadata": {},
   "source": [
    "### _WAP TO  CALCULATE THE COST OF FILLING A CYLINDER (USER WILL GIVE THE DIMENSION)  @ 235/Cu.m and also the time to fill if it takes 14minutes to fill 1 cu. m_"
   ]
  },
  {
   "cell_type": "code",
   "execution_count": 8,
   "metadata": {},
   "outputs": [
    {
     "name": "stdout",
     "output_type": "stream",
     "text": [
      "Enter Radius of the Cylinder: 6\n",
      "Enter Height of the Cylinder: 10\n",
      "The cost of Filling the cylinder is 265778.74 Rs. \n",
      "It takes 80 minutes & 18 seconds to fill the cylinder\n"
     ]
    }
   ],
   "source": [
    "import math\n",
    "r=float(input(\"Enter Radius of the Cylinder: \"))\n",
    "h=float(input(\"Enter Height of the Cylinder: \"))\n",
    "volume=math.pi*(r**2)*h\n",
    "volume\n",
    "print(\"The cost of Filling the cylinder is {r:1.2f} Rs. \".format(r=volume*235))\n",
    "print(\"It takes {} minutes & {} seconds to fill the cylinder\".format(int(volume/14),int((volume%14)*100/60)))"
   ]
  },
  {
   "cell_type": "markdown",
   "metadata": {},
   "source": [
    "### _Wap to store a student list with all the details of a student and give warning to students with attendance less than 60_"
   ]
  },
  {
   "cell_type": "code",
   "execution_count": 9,
   "metadata": {},
   "outputs": [
    {
     "data": {
      "text/html": [
       "<div>\n",
       "<style scoped>\n",
       "    .dataframe tbody tr th:only-of-type {\n",
       "        vertical-align: middle;\n",
       "    }\n",
       "\n",
       "    .dataframe tbody tr th {\n",
       "        vertical-align: top;\n",
       "    }\n",
       "\n",
       "    .dataframe thead th {\n",
       "        text-align: right;\n",
       "    }\n",
       "</style>\n",
       "<table border=\"1\" class=\"dataframe\">\n",
       "  <thead>\n",
       "    <tr style=\"text-align: right;\">\n",
       "      <th></th>\n",
       "      <th>Name</th>\n",
       "      <th>Attendance %</th>\n",
       "      <th>Branch</th>\n",
       "      <th>City</th>\n",
       "      <th>Country</th>\n",
       "    </tr>\n",
       "  </thead>\n",
       "  <tbody>\n",
       "    <tr>\n",
       "      <th>1878889</th>\n",
       "      <td>Jack</td>\n",
       "      <td>89</td>\n",
       "      <td>CSE</td>\n",
       "      <td>Sydeny</td>\n",
       "      <td>Australia</td>\n",
       "    </tr>\n",
       "    <tr>\n",
       "      <th>1817289</th>\n",
       "      <td>Riti</td>\n",
       "      <td>60</td>\n",
       "      <td>IT</td>\n",
       "      <td>Delhi</td>\n",
       "      <td>India</td>\n",
       "    </tr>\n",
       "    <tr>\n",
       "      <th>1875830</th>\n",
       "      <td>Vikas</td>\n",
       "      <td>92</td>\n",
       "      <td>CSSE</td>\n",
       "      <td>Mumbai</td>\n",
       "      <td>India</td>\n",
       "    </tr>\n",
       "    <tr>\n",
       "      <th>1839360</th>\n",
       "      <td>Neelu</td>\n",
       "      <td>46</td>\n",
       "      <td>CSCE</td>\n",
       "      <td>Bangalore</td>\n",
       "      <td>India</td>\n",
       "    </tr>\n",
       "    <tr>\n",
       "      <th>1893906</th>\n",
       "      <td>John</td>\n",
       "      <td>76</td>\n",
       "      <td>IT</td>\n",
       "      <td>New York</td>\n",
       "      <td>US</td>\n",
       "    </tr>\n",
       "    <tr>\n",
       "      <th>1833361</th>\n",
       "      <td>Mike</td>\n",
       "      <td>87</td>\n",
       "      <td>EEE</td>\n",
       "      <td>las vegas</td>\n",
       "      <td>US</td>\n",
       "    </tr>\n",
       "    <tr>\n",
       "      <th>1881908</th>\n",
       "      <td>Manish</td>\n",
       "      <td>49</td>\n",
       "      <td>CSSE</td>\n",
       "      <td>Indore</td>\n",
       "      <td>India</td>\n",
       "    </tr>\n",
       "  </tbody>\n",
       "</table>\n",
       "</div>"
      ],
      "text/plain": [
       "           Name  Attendance % Branch       City    Country\n",
       "1878889    Jack            89    CSE     Sydeny  Australia\n",
       "1817289    Riti            60     IT      Delhi      India\n",
       "1875830   Vikas            92   CSSE     Mumbai      India\n",
       "1839360   Neelu            46   CSCE  Bangalore      India\n",
       "1893906    John            76     IT   New York         US\n",
       "1833361    Mike            87    EEE  las vegas         US\n",
       "1881908  Manish            49   CSSE     Indore      India"
      ]
     },
     "execution_count": 9,
     "metadata": {},
     "output_type": "execute_result"
    }
   ],
   "source": [
    "students = [ ('Jack', 89,'CSE', 'Sydeny' , 'Australia') ,\n",
    "             ('Riti', 60,'IT', 'Delhi' , 'India' ) ,\n",
    "             ('Vikas', 92,'CSSE', 'Mumbai' , 'India' ) ,\n",
    "             ('Neelu', 46,'CSCE', 'Bangalore' , 'India' ) ,\n",
    "             ('John', 76,'IT', 'New York' , 'US') ,\n",
    "             ('Mike', 87,'EEE','las vegas' , 'US'),\n",
    "             ('Manish',49,'CSSE','Indore','India')]\n",
    "\n",
    "studentDetails=pd.DataFrame(data=students,index=[1808200+ random.randint(0,90000) for x in range(1,len(students)+1)],\n",
    "                            columns=['Name','Attendance %','Branch','City','Country'])\n",
    "studentDetails"
   ]
  },
  {
   "cell_type": "code",
   "execution_count": 10,
   "metadata": {},
   "outputs": [
    {
     "name": "stdout",
     "output_type": "stream",
     "text": [
      "Warning! Neelu, your Attendance is below 60%\n",
      "Warning! Manish, your Attendance is below 60%\n"
     ]
    }
   ],
   "source": [
    "for i in studentDetails.index.values:\n",
    "    if studentDetails.loc[i,'Attendance %'] < 60:\n",
    "        print(\"Warning! {}, your Attendance is below 60%\".format(studentDetails.loc[i,'Name']))"
   ]
  },
  {
   "cell_type": "code",
   "execution_count": null,
   "metadata": {},
   "outputs": [],
   "source": []
  }
 ],
 "metadata": {
  "kernelspec": {
   "display_name": "Python 3",
   "language": "python",
   "name": "python3"
  },
  "language_info": {
   "codemirror_mode": {
    "name": "ipython",
    "version": 3
   },
   "file_extension": ".py",
   "mimetype": "text/x-python",
   "name": "python",
   "nbconvert_exporter": "python",
   "pygments_lexer": "ipython3",
   "version": "3.8.5"
  },
  "varInspector": {
   "cols": {
    "lenName": 16,
    "lenType": 16,
    "lenVar": 40
   },
   "kernels_config": {
    "python": {
     "delete_cmd_postfix": "",
     "delete_cmd_prefix": "del ",
     "library": "var_list.py",
     "varRefreshCmd": "print(var_dic_list())"
    },
    "r": {
     "delete_cmd_postfix": ") ",
     "delete_cmd_prefix": "rm(",
     "library": "var_list.r",
     "varRefreshCmd": "cat(var_dic_list()) "
    }
   },
   "types_to_exclude": [
    "module",
    "function",
    "builtin_function_or_method",
    "instance",
    "_Feature"
   ],
   "window_display": false
  }
 },
 "nbformat": 4,
 "nbformat_minor": 4
}
