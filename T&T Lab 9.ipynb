{
 "cells": [
  {
   "cell_type": "markdown",
   "id": "virgin-idaho",
   "metadata": {},
   "source": [
    "# T&T Lab 9 - 3rd Feb\n",
    "## Manish Ranjan Behera (1828249)"
   ]
  },
  {
   "cell_type": "code",
   "execution_count": 1,
   "id": "fallen-trick",
   "metadata": {},
   "outputs": [],
   "source": [
    "tup1 = ('physics', 'chemistry', 'biology', 'english',97, 100,88,92)"
   ]
  },
  {
   "cell_type": "code",
   "execution_count": 2,
   "id": "silver-replica",
   "metadata": {},
   "outputs": [
    {
     "data": {
      "text/plain": [
       "('physics', 'chemistry', 'biology', 'english', 97, 100, 88, 92)"
      ]
     },
     "execution_count": 2,
     "metadata": {},
     "output_type": "execute_result"
    }
   ],
   "source": [
    "tup1"
   ]
  },
  {
   "cell_type": "code",
   "execution_count": 3,
   "id": "super-daughter",
   "metadata": {},
   "outputs": [
    {
     "data": {
      "text/plain": [
       "'biology'"
      ]
     },
     "execution_count": 3,
     "metadata": {},
     "output_type": "execute_result"
    }
   ],
   "source": [
    "tup1[2]"
   ]
  },
  {
   "cell_type": "code",
   "execution_count": 4,
   "id": "considered-microwave",
   "metadata": {},
   "outputs": [],
   "source": [
    "tup2 = (1, 2, 3, 4, 5, 6, 7 )"
   ]
  },
  {
   "cell_type": "code",
   "execution_count": 8,
   "id": "whole-collector",
   "metadata": {},
   "outputs": [
    {
     "name": "stdout",
     "output_type": "stream",
     "text": [
      "('physics', 'chemistry', 'biology', 'english', 97, 100, 88, 92, 1, 2, 3, 4, 5, 6, 7)\n"
     ]
    }
   ],
   "source": [
    "tup3=tup1+tup2\n",
    "print(tup3)"
   ]
  },
  {
   "cell_type": "code",
   "execution_count": 7,
   "id": "closed-arnold",
   "metadata": {},
   "outputs": [
    {
     "name": "stdout",
     "output_type": "stream",
     "text": [
      "(1, 2, 3, 4, 5, 6, 7, 1, 2, 3, 4, 5, 6, 7, 1, 2, 3, 4, 5, 6, 7, 1, 2, 3, 4, 5, 6, 7, 1, 2, 3, 4, 5, 6, 7)\n"
     ]
    }
   ],
   "source": [
    "tup4=tup2*5\n",
    "print(tup4)"
   ]
  },
  {
   "cell_type": "markdown",
   "id": "hearing-anthropology",
   "metadata": {},
   "source": [
    "### Pick the 3rd 4th and 5th Object of a tuple and create a new Tuple for the same"
   ]
  },
  {
   "cell_type": "code",
   "execution_count": 9,
   "id": "recovered-bread",
   "metadata": {},
   "outputs": [
    {
     "name": "stdout",
     "output_type": "stream",
     "text": [
      "('biology', 'english', 97)\n"
     ]
    }
   ],
   "source": [
    "tup5=tup1[2:5]\n",
    "print(tup5)"
   ]
  },
  {
   "cell_type": "markdown",
   "id": "focused-colombia",
   "metadata": {},
   "source": [
    "### Find the occurence of the element"
   ]
  },
  {
   "cell_type": "code",
   "execution_count": 28,
   "id": "thousand-chicago",
   "metadata": {},
   "outputs": [
    {
     "name": "stdout",
     "output_type": "stream",
     "text": [
      "1 1\n",
      "2 1\n",
      "5 2\n",
      "7 1\n",
      "9 1\n",
      "10 1\n",
      "23 1\n"
     ]
    }
   ],
   "source": [
    "tup4=(1,23,5,5,7,2,9,10)\n",
    "for i in set(tup4):\n",
    "    count=0\n",
    "    for j in tup4:\n",
    "        if i==j:\n",
    "            count+=1\n",
    "    print(i,count)"
   ]
  },
  {
   "cell_type": "markdown",
   "id": "million-anderson",
   "metadata": {},
   "source": [
    "### Write a Python program calculate the product, multiplying all the numbers  with 35"
   ]
  },
  {
   "cell_type": "code",
   "execution_count": 23,
   "id": "under-malaysia",
   "metadata": {},
   "outputs": [
    {
     "name": "stdout",
     "output_type": "stream",
     "text": [
      "(1, 2, 3, 4, 5, 6, 7)\n",
      "35\n",
      "70\n",
      "105\n",
      "140\n",
      "175\n",
      "210\n",
      "245\n"
     ]
    }
   ],
   "source": [
    "print(tup2)\n",
    "for i in tup2:\n",
    "    print(i*35)"
   ]
  },
  {
   "cell_type": "markdown",
   "id": "outstanding-intermediate",
   "metadata": {},
   "source": [
    "### Write a Python program to replace last value of tuples in a list.\n",
    "Sample list: [(10, 20, 40), (40, 50, 60), (70, 80, 90)] <br>\n",
    "Expected Output: [(10, 20, 100), (40, 50, 100), (70, 80, 100)]"
   ]
  },
  {
   "cell_type": "code",
   "execution_count": 22,
   "id": "bizarre-delicious",
   "metadata": {},
   "outputs": [
    {
     "name": "stdout",
     "output_type": "stream",
     "text": [
      "[(10, 20, 100), (40, 50, 100), (70, 80, 100)]\n"
     ]
    }
   ],
   "source": [
    "tupList=[(10, 20, 40), (40, 50, 60), (70, 80, 90)]\n",
    "for i in range(0,len(tupList)) :\n",
    "    temp=list(tupList[i])\n",
    "    temp[-1]=100\n",
    "    tupList[i]=tuple(temp)\n",
    "print(tupList)"
   ]
  },
  {
   "cell_type": "markdown",
   "id": "color-exercise",
   "metadata": {},
   "source": [
    "### Write a Python program to find the length of a tuple"
   ]
  },
  {
   "cell_type": "code",
   "execution_count": 16,
   "id": "amazing-russia",
   "metadata": {},
   "outputs": [
    {
     "data": {
      "text/plain": [
       "15"
      ]
     },
     "execution_count": 16,
     "metadata": {},
     "output_type": "execute_result"
    }
   ],
   "source": [
    "len(tup3)"
   ]
  },
  {
   "cell_type": "code",
   "execution_count": null,
   "id": "metric-algorithm",
   "metadata": {},
   "outputs": [],
   "source": [
    "print()"
   ]
  }
 ],
 "metadata": {
  "kernelspec": {
   "display_name": "Python 3",
   "language": "python",
   "name": "python3"
  },
  "language_info": {
   "codemirror_mode": {
    "name": "ipython",
    "version": 3
   },
   "file_extension": ".py",
   "mimetype": "text/x-python",
   "name": "python",
   "nbconvert_exporter": "python",
   "pygments_lexer": "ipython3",
   "version": "3.8.5"
  },
  "varInspector": {
   "cols": {
    "lenName": 16,
    "lenType": 16,
    "lenVar": 40
   },
   "kernels_config": {
    "python": {
     "delete_cmd_postfix": "",
     "delete_cmd_prefix": "del ",
     "library": "var_list.py",
     "varRefreshCmd": "print(var_dic_list())"
    },
    "r": {
     "delete_cmd_postfix": ") ",
     "delete_cmd_prefix": "rm(",
     "library": "var_list.r",
     "varRefreshCmd": "cat(var_dic_list()) "
    }
   },
   "types_to_exclude": [
    "module",
    "function",
    "builtin_function_or_method",
    "instance",
    "_Feature"
   ],
   "window_display": false
  }
 },
 "nbformat": 4,
 "nbformat_minor": 5
}
