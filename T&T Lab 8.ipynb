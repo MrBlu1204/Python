{
 "cells": [
  {
   "cell_type": "markdown",
   "metadata": {},
   "source": [
    "# T & T Lab 8 - 27th Jan\n",
    "## Manish Ranjan Behera - 1828249"
   ]
  },
  {
   "cell_type": "markdown",
   "metadata": {},
   "source": [
    "### WAP TO PRINT THIS PATTERN AND TAKE THE NO OF LINES AS INPUT FROM USER"
   ]
  },
  {
   "attachments": {
    "Screenshot%202021-01-29%20224420.png": {
     "image/png": "[encoded data removed]"
    }
   },
   "cell_type": "markdown",
   "metadata": {},
   "source": [
    "![Screenshot%202021-01-29%20224420.png](attachment:Screenshot%202021-01-29%20224420.png)"
   ]
  },
  {
   "cell_type": "code",
   "execution_count": 6,
   "metadata": {},
   "outputs": [
    {
     "name": "stdout",
     "output_type": "stream",
     "text": [
      "Enter Size:5\n",
      "*********\n",
      "**** ****\n",
      "***   ***\n",
      "**     **\n",
      "*       *\n"
     ]
    }
   ],
   "source": [
    "n=int(input(\"Enter Size:\"))\n",
    "for i in range(n,0,-1):\n",
    "    if i==n:\n",
    "        print(\"*\"*((2*n)-1))\n",
    "    else:\n",
    "        print(\"*\"*i+' '*((n-i)*2-1)+\"*\"*i)"
   ]
  },
  {
   "cell_type": "markdown",
   "metadata": {},
   "source": [
    "### WAP to find whether a number is perfect number or not using Function\n",
    "**Perfect number, a positive integer that is equal to the sum of its proper divisors. The smallest perfect number is 6, which is the sum of 1, 2, and 3. Other perfect numbers are 28, 496, and 8,128.**"
   ]
  },
  {
   "cell_type": "code",
   "execution_count": 12,
   "metadata": {},
   "outputs": [
    {
     "name": "stdout",
     "output_type": "stream",
     "text": [
      "Enter a Number:8\n",
      "8 is not a perfect number\n"
     ]
    }
   ],
   "source": [
    "def perfectNumber(n):\n",
    "    s=0\n",
    "    for i in range(1,n):\n",
    "        if n%i==0:\n",
    "            s=s+i\n",
    "    \n",
    "    if s==n:\n",
    "        print(f'{n} is a perfect number')\n",
    "        \n",
    "    else:\n",
    "        print(f'{n} is not a perfect number')\n",
    "        \n",
    "n=int(input('Enter a Number:'))\n",
    "perfectNumber(n)"
   ]
  },
  {
   "cell_type": "markdown",
   "metadata": {},
   "source": [
    "### WAP to find whether a number is Armstrong Number or Not using Function"
   ]
  },
  {
   "cell_type": "code",
   "execution_count": 26,
   "metadata": {},
   "outputs": [
    {
     "name": "stdout",
     "output_type": "stream",
     "text": [
      "Enter a Number:153\n",
      "3\n",
      "153\n",
      "153 is a Armstrong Number\n"
     ]
    }
   ],
   "source": [
    "def armstrong(n):\n",
    "    d=n\n",
    "    p=len(str(n))\n",
    "    print(p)\n",
    "    s=0\n",
    "    while d>0:\n",
    "        r=d%10\n",
    "        d=int(d/10)\n",
    "        s=s+(r**p)\n",
    "    if s==n:\n",
    "        print(f'{n} is a Armstrong Number')\n",
    "    else:\n",
    "        print(f'{n} is NOT a Armstrong Number')\n",
    "\n",
    "n=int(input('Enter a Number:'))\n",
    "armstrong(n)"
   ]
  },
  {
   "cell_type": "markdown",
   "metadata": {},
   "source": [
    "### WAP to convert Fahrenheit to Celcius"
   ]
  },
  {
   "cell_type": "code",
   "execution_count": 29,
   "metadata": {},
   "outputs": [
    {
     "name": "stdout",
     "output_type": "stream",
     "text": [
      "Enter temperature in degree Fahrenheit:32\n",
      "32 degree Fahrenheit is equal to 0.0 degree Celcius\n"
     ]
    }
   ],
   "source": [
    "def f2c(f):\n",
    "    c=(f-32)*(5/9)\n",
    "    return c\n",
    "    \n",
    "f=int(input(\"Enter temperature in degree Fahrenheit:\"))\n",
    "\n",
    "print(f'{f} degree Fahrenheit is equal to {f2c(f)} degree Celcius')\n",
    "    "
   ]
  },
  {
   "cell_type": "markdown",
   "metadata": {},
   "source": [
    "### WAP to find total surface area of a Cuboid"
   ]
  },
  {
   "cell_type": "code",
   "execution_count": 33,
   "metadata": {},
   "outputs": [
    {
     "name": "stdout",
     "output_type": "stream",
     "text": [
      "Enter Length of the Cuboid:3.5\n",
      "Enter Width of the Cuboid:4\n",
      "Enter Height of the Cuboid:2\n",
      "Total surface area of cuboid is 58.00 square Units\n"
     ]
    }
   ],
   "source": [
    "def totalSurfaceArea(l,w,h):\n",
    "    tsa=2*(l*w+l*h+w*h)\n",
    "    return tsa\n",
    "\n",
    "l=float(input('Enter Length of the Cuboid:'))\n",
    "w=float(input('Enter Width of the Cuboid:'))\n",
    "h=float(input('Enter Height of the Cuboid:'))\n",
    "\n",
    "print(\"Total surface area of cuboid is {a:1.2f} square Units\".format(a=totalSurfaceArea(l,w,h)))"
   ]
  },
  {
   "cell_type": "markdown",
   "metadata": {},
   "source": [
    "### WAP to print the following Patterns by taking size as user Input:"
   ]
  },
  {
   "attachments": {
    "Screenshot%202021-01-29%20224614.png": {
     "image/png": "[encoded data removed]"
    }
   },
   "cell_type": "markdown",
   "metadata": {},
   "source": [
    "a)![Screenshot%202021-01-29%20224614.png](attachment:Screenshot%202021-01-29%20224614.png)"
   ]
  },
  {
   "cell_type": "code",
   "execution_count": 27,
   "metadata": {},
   "outputs": [
    {
     "name": "stdout",
     "output_type": "stream",
     "text": [
      "Enter Number of lines:5\n",
      "    1 \n",
      "   3 3 \n",
      "  5 5 5 \n",
      " 7 7 7 7 \n",
      "9 9 9 9 9 \n"
     ]
    }
   ],
   "source": [
    "def pattern(n):\n",
    "    for i in range(1,n+1):\n",
    "        print(\" \"*(n-i),end='')\n",
    "        for j in range(i):\n",
    "            print(2*i-1,end=\" \")\n",
    "        print(\"\")\n",
    "\n",
    "    \n",
    "n=int(input(\"Enter Number of lines:\"))\n",
    "pattern(n)"
   ]
  },
  {
   "attachments": {
    "Screenshot%202021-01-29%20225847.png": {
     "image/png": "[encoded data removed]"
    }
   },
   "cell_type": "markdown",
   "metadata": {},
   "source": [
    "b)![Screenshot%202021-01-29%20225847.png](attachment:Screenshot%202021-01-29%20225847.png)"
   ]
  },
  {
   "cell_type": "code",
   "execution_count": null,
   "metadata": {},
   "outputs": [],
   "source": [
    "def pattern(n):\n",
    "    for i in range(2*n,0,-1):\n",
    "        if i==2*n or i==1:\n",
    "            print(\"*\"*((2*n)-1))\n",
    "        elif i<=n:\n",
    "            print(\"*\"*(n-i+1)+' '*((n-(n-i)-1)*2-1)+\"*\"*(n-i+1))\n",
    "        else:\n",
    "            print(\"*\"*(i-n)+' '*((n-(i-n))*2-1)+\"*\"*(i-n))\n",
    "                  \n",
    "n=int(input(\"Enter Size:\"))\n",
    "pattern(n)"
   ]
  },
  {
   "attachments": {
    "Screenshot%202021-01-29%20225945.png": {
     "image/png": "[encoded data removed]"
    }
   },
   "cell_type": "markdown",
   "metadata": {},
   "source": [
    "c)![Screenshot%202021-01-29%20225945.png](attachment:Screenshot%202021-01-29%20225945.png)"
   ]
  },
  {
   "cell_type": "code",
   "execution_count": 21,
   "metadata": {},
   "outputs": [
    {
     "name": "stdout",
     "output_type": "stream",
     "text": [
      "Enter Number of lines:5\n",
      "     A\n",
      "    ABC\n",
      "   ABCDE\n",
      "  ABCDEFG\n",
      " ABCDEFGHI\n"
     ]
    }
   ],
   "source": [
    "def alphaPattern(n):\n",
    "    alpha='ABCDEFGHIJKLMNOPQRSTUVWXYZ'\n",
    "    for i in range(n):\n",
    "        print(\" \"*(n-i)+alpha[0:2*i+1])\n",
    "        \n",
    "n=int(input(\"Enter Number of lines:\"))\n",
    "alphaPattern(n)\n"
   ]
  },
  {
   "cell_type": "markdown",
   "metadata": {},
   "source": [
    "### WAP to convert Decimal to Binary"
   ]
  },
  {
   "cell_type": "code",
   "execution_count": 25,
   "metadata": {},
   "outputs": [
    {
     "name": "stdout",
     "output_type": "stream",
     "text": [
      "Enter a Decimal Value:23\n",
      "Binary form of 23 is 010111\n"
     ]
    }
   ],
   "source": [
    "# //: divide with integral result (discard remainder)\n",
    "def decimal2binary(num):\n",
    "    binary=''\n",
    "    if num >= 1:\n",
    "        binary=decimal2binary(num // 2)\n",
    "    binary=binary+str(num%2)\n",
    "    return binary\n",
    "    \n",
    "num=int(input(\"Enter a Decimal Value:\"))\n",
    "print(f'Binary form of {num} is {decimal2binary(num)}')"
   ]
  },
  {
   "cell_type": "markdown",
   "metadata": {},
   "source": [
    "### WAP to find the ASCII values of a given input string"
   ]
  },
  {
   "cell_type": "code",
   "execution_count": 28,
   "metadata": {},
   "outputs": [
    {
     "name": "stdout",
     "output_type": "stream",
     "text": [
      "Enter a String Value:MR. Blu\n",
      "ASCII values of the string are [77, 82, 46, 32, 66, 108, 117]\n"
     ]
    }
   ],
   "source": [
    "def str2ascii(string):\n",
    "    asciiList=[ord(c) for c in string]\n",
    "    return asciiList\n",
    "    \n",
    "string=input(\"Enter a String Value:\")\n",
    "print(f\"ASCII values of the string are {str2ascii(string)}\")"
   ]
  },
  {
   "cell_type": "markdown",
   "metadata": {},
   "source": [
    "### WAP to find the LCM of the Numbers"
   ]
  },
  {
   "cell_type": "code",
   "execution_count": 39,
   "metadata": {},
   "outputs": [
    {
     "name": "stdout",
     "output_type": "stream",
     "text": [
      "Enter number of number for which LCM has to be found:5\n",
      "23\n",
      "43\n",
      "21\n",
      "32\n",
      "12\n",
      "The L.C.M. of 23, 43, 21, 32, 12, is 664608\n"
     ]
    }
   ],
   "source": [
    "# LCM = a*b/GCD(a,b)\n",
    "\n",
    "def gcd(a,b):\n",
    "    if a > b:\n",
    "        smaller = b\n",
    "    else:\n",
    "        smaller = a\n",
    "    for i in range(1, smaller+1):\n",
    "        if((a % i == 0) and (b % i == 0)):\n",
    "            hcf = i \n",
    "    return hcf\n",
    "\n",
    "\n",
    "def lcm(a, b):\n",
    "    l=(a*b)//gcd(a,b)\n",
    "    return l\n",
    "\n",
    "n=int(input(\"Enter number of number for which LCM has to be found:\"))\n",
    "num=[int(input('')) for x in range(n)]\n",
    "result=lcm(num[0],num[1])\n",
    "\n",
    "for i in range(2,len(num)):\n",
    "    result=lcm(result,num[i])\n",
    "print(\"The L.C.M. of\",end=' ')\n",
    "for x in num:\n",
    "    print(x,end=\", \")\n",
    "print(\"is\",result)"
   ]
  }
 ],
 "metadata": {
  "kernelspec": {
   "display_name": "Python 3",
   "language": "python",
   "name": "python3"
  },
  "language_info": {
   "codemirror_mode": {
    "name": "ipython",
    "version": 3
   },
   "file_extension": ".py",
   "mimetype": "text/x-python",
   "name": "python",
   "nbconvert_exporter": "python",
   "pygments_lexer": "ipython3",
   "version": "3.8.5"
  },
  "varInspector": {
   "cols": {
    "lenName": 16,
    "lenType": 16,
    "lenVar": 40
   },
   "kernels_config": {
    "python": {
     "delete_cmd_postfix": "",
     "delete_cmd_prefix": "del ",
     "library": "var_list.py",
     "varRefreshCmd": "print(var_dic_list())"
    },
    "r": {
     "delete_cmd_postfix": ") ",
     "delete_cmd_prefix": "rm(",
     "library": "var_list.r",
     "varRefreshCmd": "cat(var_dic_list()) "
    }
   },
   "types_to_exclude": [
    "module",
    "function",
    "builtin_function_or_method",
    "instance",
    "_Feature"
   ],
   "window_display": false
  }
 },
 "nbformat": 4,
 "nbformat_minor": 4
}
