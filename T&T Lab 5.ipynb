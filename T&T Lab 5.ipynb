{
 "cells": [
  {
   "cell_type": "markdown",
   "metadata": {},
   "source": [
    "### Write a Python program to find the average of lowest 3 values in a dictionary."
   ]
  },
  {
   "cell_type": "code",
   "execution_count": 1,
   "metadata": {},
   "outputs": [
    {
     "name": "stdout",
     "output_type": "stream",
     "text": [
      "Dictionary={1: 76, 2: 57, 3: 64, 4: 37, 5: 19, 6: 37, 7: 58, 8: 83, 9: 88, 10: 63, 11: 96, 12: 56, 13: 61, 14: 93, 15: 99, 16: 100, 17: 38, 18: 90, 19: 25, 20: 20}\n",
      "Average of lowest 3 values is 21.333333333333332\n"
     ]
    }
   ],
   "source": [
    "import random\n",
    "dictionary={x:random.randint(x,100) for x in range(1,21) }\n",
    "values=[x for x in dictionary.values()]\n",
    "\n",
    "# SORTING in ascending order\n",
    "for i in range(0,len(values)):\n",
    "    for j in range (i,len(values)):\n",
    "        if values[i]>values[j]:\n",
    "            temp=values[i]\n",
    "            values[i]=values[j]\n",
    "            values[j]=temp\n",
    "            \n",
    "average=(values[0]+values[1]+values[2])/3\n",
    "print(f\"Dictionary={dictionary}\")\n",
    "print(f\"Average of lowest 3 values is {average}\")"
   ]
  },
  {
   "cell_type": "markdown",
   "metadata": {},
   "source": [
    "### WAP TO PRINT A DICT WITH 8 KEYS, UPDATE THE MIDDLE KEY AND DELETE SECOND LAST KEY  FROM RIGHT"
   ]
  },
  {
   "cell_type": "code",
   "execution_count": 9,
   "metadata": {},
   "outputs": [
    {
     "name": "stdout",
     "output_type": "stream",
     "text": [
      "BEFORE MODIFICATION:\n",
      "{1: 60, 2: 21, 3: 47, 4: 15, 5: 10, 6: 97, 7: 47, 8: 69}\n",
      "AFTER UPDATION:\n",
      "{1: 60, 2: 21, 3: 47, 4: 'manish', 5: 10, 6: 97, 8: 69}\n"
     ]
    }
   ],
   "source": [
    "import random\n",
    "dictionary={x:random.randint(x,100) for x in range(1,9) }\n",
    "values=[x for x in dictionary.values()]\n",
    "\n",
    "print(f'BEFORE MODIFICATION:\\n{dictionary}')\n",
    "\n",
    "keys=[x for x in dictionary.keys()]\n",
    "i = len(keys)/2 if len(keys)%2==0 else (len(keys)+1)/2\n",
    "\n",
    "dictionary[keys[int(i)-1]]='manish'\n",
    "\n",
    "del dictionary[keys[-2]]\n",
    "\n",
    "print(f'AFTER UPDATION:\\n{dictionary}')"
   ]
  },
  {
   "cell_type": "markdown",
   "metadata": {},
   "source": [
    "### Write a Python program to get the frequency of the second last element  in a list"
   ]
  },
  {
   "cell_type": "code",
   "execution_count": 8,
   "metadata": {},
   "outputs": [
    {
     "name": "stdout",
     "output_type": "stream",
     "text": [
      "Frequency of the second Last element is 3\n"
     ]
    }
   ],
   "source": [
    "freq=[1,2,0,3,0,6,0,10]\n",
    "count=0\n",
    "for i in freq:\n",
    "    if i==freq[-2]:\n",
    "        count+=1\n",
    "print(f'Frequency of the second Last element is {count}')"
   ]
  },
  {
   "cell_type": "code",
   "execution_count": null,
   "metadata": {},
   "outputs": [],
   "source": []
  }
 ],
 "metadata": {
  "kernelspec": {
   "display_name": "Python 3",
   "language": "python",
   "name": "python3"
  },
  "language_info": {
   "codemirror_mode": {
    "name": "ipython",
    "version": 3
   },
   "file_extension": ".py",
   "mimetype": "text/x-python",
   "name": "python",
   "nbconvert_exporter": "python",
   "pygments_lexer": "ipython3",
   "version": "3.9.1"
  }
 },
 "nbformat": 4,
 "nbformat_minor": 4
}
