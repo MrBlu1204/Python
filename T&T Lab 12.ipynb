{
 "cells": [
  {
   "cell_type": "markdown",
   "id": "abroad-circus",
   "metadata": {},
   "source": [
    "# T&T Lab 11 - 24th Feb\n",
    "## Manish Ranjan Behera (1828249)"
   ]
  },
  {
   "cell_type": "markdown",
   "id": "destroyed-toronto",
   "metadata": {},
   "source": [
    "### Q1. Create a Python class named Circle constructed by a radius and two methods which will compute the area and the perimeter of a circle."
   ]
  },
  {
   "cell_type": "code",
   "execution_count": 6,
   "id": "together-sensitivity",
   "metadata": {},
   "outputs": [],
   "source": [
    "import math\n",
    "class Circle:\n",
    "    def __init__(self,r):\n",
    "        self.radius=r\n",
    "        print(\"A Circle created with radius\",self.radius)\n",
    "    def area(self):\n",
    "        self.a=(math.pi)*self.radius**2\n",
    "        print(\"Area of the circle is{a:1.2f} square units.\".format(a=self.a))\n",
    "    def perimeter(self):\n",
    "        self.p=2*(math.pi)*self.radius\n",
    "        print(\"Perimeter of the circle is {p:1.2f} units.\".format(p=self.p))"
   ]
  },
  {
   "cell_type": "code",
   "execution_count": 7,
   "id": "separate-cylinder",
   "metadata": {},
   "outputs": [
    {
     "name": "stdout",
     "output_type": "stream",
     "text": [
      "Circle created with radius 45\n",
      "Area of the circle is6361.73 square units.\n",
      "Perimeter of the circle is 282.74 units.\n"
     ]
    }
   ],
   "source": [
    "c1=  Circle(45)\n",
    "c1.area()\n",
    "c1.perimeter()"
   ]
  },
  {
   "cell_type": "markdown",
   "id": "distributed-slope",
   "metadata": {},
   "source": [
    "### Q2.  Create a Python class named Rectangle constructed by a length and width and a method which will compute the area of a rectangle."
   ]
  },
  {
   "cell_type": "code",
   "execution_count": 8,
   "id": "direct-confirmation",
   "metadata": {},
   "outputs": [],
   "source": [
    "class Rectangle:\n",
    "    def __init__(self,l,w):\n",
    "        self.length=l\n",
    "        self.width=w\n",
    "        print(\"A rectangle created with lenth {} units and width {} units\".format(self.length,self.width))\n",
    "    def area(self):\n",
    "        self.a=self.length * self.width\n",
    "        print(\"Area of the Rectangle is{a:1.2f} square units.\".format(a=self.a))\n",
    "    def perimeter(self):\n",
    "        self.p=2*(self.length + self.width)\n",
    "        print(\"Perimeter of the Rectagle is {p:1.2f} units.\".format(p=self.p))"
   ]
  },
  {
   "cell_type": "code",
   "execution_count": 9,
   "id": "convenient-nigeria",
   "metadata": {},
   "outputs": [
    {
     "name": "stdout",
     "output_type": "stream",
     "text": [
      "A rectangle created with lenth 20 units and width 8 units\n",
      "Area of the Rectangle is160.00 square units.\n",
      "Perimeter of the Rectagle is 56.00 units.\n"
     ]
    }
   ],
   "source": [
    "r= Rectangle(20,8)\n",
    "r.area()\n",
    "r.perimeter()"
   ]
  },
  {
   "cell_type": "markdown",
   "id": "atmospheric-switzerland",
   "metadata": {},
   "source": [
    "### Q3. Find student grade using class in python"
   ]
  },
  {
   "cell_type": "code",
   "execution_count": 56,
   "id": "powered-polymer",
   "metadata": {},
   "outputs": [],
   "source": [
    "class Student:\n",
    "    def __init__(self):\n",
    "        self.roll=int(input(\"Enter Roll No: \"))\n",
    "        self.name=input(\"Enter Name: \")\n",
    "        self.english=int(input(\"Enter marks of English: \"))\n",
    "        self.hindi=int(input(\"Enter marks of Hindi: \"))\n",
    "        self.maths=int(input(\"Enter marks of Maths: \"))\n",
    "        self.science=int(input(\"Enter marks of Science: \"))\n",
    "        self.percent=(self.english + self.hindi + self.maths + self.science)/4\n",
    "    \n",
    "    def grade(self):\n",
    "        if 100>=self.percent>90:\n",
    "            return \"O\"\n",
    "        elif 90>=self.percent>80:\n",
    "            return \"E\"\n",
    "        elif 80>=self.percent>70:\n",
    "            return \"A\"\n",
    "        elif 70>=selfpercent>60:\n",
    "            return \"B\"\n",
    "        elif 60>=self.percent>50:\n",
    "            return \"C\"\n",
    "        elif 50>=self.percent>40:\n",
    "            return \"D\"\n",
    "        else:\n",
    "            return \"Fail\"\n",
    "        \n",
    "    def report(self):\n",
    "        print(\"=\"*14,\"Report\",\"=\"*14)\n",
    "        print(\"Name:\",self.name,\"\\t Roll No.:\",self.roll)\n",
    "        print(\"_\"*36)\n",
    "        print(\"Subject \\t\\tMarks\")\n",
    "        print(\"_\"*36)\n",
    "        print(\"English \\t\\t\",self.english)\n",
    "        print(\"Hindi   \\t\\t\",self.hindi)\n",
    "        print(\"Maths   \\t\\t\",self.maths)\n",
    "        print(\"Science \\t\\t\",self.science)\n",
    "        print(\"_\"*36,\"\\nOverall Grade: \",self.grade())\n",
    "        print(\"=\"*36)"
   ]
  },
  {
   "cell_type": "code",
   "execution_count": 57,
   "id": "referenced-posting",
   "metadata": {},
   "outputs": [
    {
     "name": "stdout",
     "output_type": "stream",
     "text": [
      "Enter Roll No: 1828249\n",
      "Enter Name: Mr. Blu\n",
      "Enter marks of English: 93\n",
      "Enter marks of Hindi: 86\n",
      "Enter marks of Maths: 95\n",
      "Enter marks of Science: 91\n",
      "============== Report ==============\n",
      "Name: Mr. Blu \t Roll No.: 1828249\n",
      "____________________________________\n",
      "Subject \t\tMarks\n",
      "____________________________________\n",
      "English \t\t 93\n",
      "Hindi   \t\t 86\n",
      "Maths   \t\t 95\n",
      "Science \t\t 91\n",
      "____________________________________ \n",
      "Overall Grade:  O\n",
      "====================================\n"
     ]
    }
   ],
   "source": [
    "stud = Student()\n",
    "stud.report()"
   ]
  },
  {
   "cell_type": "code",
   "execution_count": 44,
   "id": "novel-arthur",
   "metadata": {},
   "outputs": [
    {
     "name": "stdout",
     "output_type": "stream",
     "text": [
      "Name:  Mr. Blu \tRoll No.:  1828249\n",
      "Subject \tMarks\n",
      "English \t 78\n",
      "Hindi \t 76\n",
      "Maths \t 89\n",
      "Science \t 96\n",
      "Overall Grade:  E\n"
     ]
    }
   ],
   "source": [
    "stud.report()"
   ]
  },
  {
   "cell_type": "markdown",
   "id": "hundred-motion",
   "metadata": {},
   "source": [
    "### Q4. Create a BookStore class in Python"
   ]
  },
  {
   "cell_type": "code",
   "execution_count": 30,
   "id": "killing-tuesday",
   "metadata": {},
   "outputs": [],
   "source": [
    "class BookStore:\n",
    "    num = 0\n",
    "    def __init__(self, title, author, copies):\n",
    "        self.title = title\n",
    "        self.author = author\n",
    "        self.copies = copies\n",
    "        BookStore.num=BookStore.num+self.copies\n",
    " \n",
    "    def bookinfo(self):\n",
    "        print(\"Book title:\", self.title)\n",
    "        print(\"\\tBook author:\", self.author)\n",
    "        print(\"\\tNumber of Copies:\",self.copies)"
   ]
  },
  {
   "cell_type": "code",
   "execution_count": 31,
   "id": "understanding-glenn",
   "metadata": {},
   "outputs": [
    {
     "name": "stdout",
     "output_type": "stream",
     "text": [
      "Book title: Have you Seen Me?\n",
      "\tBook author: Kate White\n",
      "\tNumber of Copies: 15\n",
      "Book title: Harry Potter\n",
      "\tBook author: JK Rowling\n",
      "\tNumber of Copies: 30\n",
      "Book title: Life is What you make of it\n",
      "\tBook author: Preeti Shenoy\n",
      "\tNumber of Copies: 10\n",
      "Book title: The Immortals of Meluha\n",
      "\tBook author: AMISH\n",
      "\tNumber of Copies: 23\n",
      "Total number of books: 78\n"
     ]
    }
   ],
   "source": [
    "b1 = BookStore(\"Have you Seen Me?\", \"Kate White\",15)\n",
    "b2 = BookStore(\"Harry Potter\", \"JK Rowling\",30)\n",
    "b3 = BookStore(\"Life is What you make of it\", \"Preeti Shenoy\",10)\n",
    "b4 = BookStore(\"The Immortals of Meluha\", \"AMISH\",23)\n",
    "b1.bookinfo()\n",
    "b2.bookinfo()\n",
    "b3.bookinfo()\n",
    "b4.bookinfo()\n",
    "print(\"Total number of books:\", BookStore.num)"
   ]
  },
  {
   "cell_type": "code",
   "execution_count": null,
   "id": "academic-liver",
   "metadata": {},
   "outputs": [],
   "source": []
  }
 ],
 "metadata": {
  "kernelspec": {
   "display_name": "Python 3",
   "language": "python",
   "name": "python3"
  },
  "language_info": {
   "codemirror_mode": {
    "name": "ipython",
    "version": 3
   },
   "file_extension": ".py",
   "mimetype": "text/x-python",
   "name": "python",
   "nbconvert_exporter": "python",
   "pygments_lexer": "ipython3",
   "version": "3.8.5"
  },
  "varInspector": {
   "cols": {
    "lenName": 16,
    "lenType": 16,
    "lenVar": 40
   },
   "kernels_config": {
    "python": {
     "delete_cmd_postfix": "",
     "delete_cmd_prefix": "del ",
     "library": "var_list.py",
     "varRefreshCmd": "print(var_dic_list())"
    },
    "r": {
     "delete_cmd_postfix": ") ",
     "delete_cmd_prefix": "rm(",
     "library": "var_list.r",
     "varRefreshCmd": "cat(var_dic_list()) "
    }
   },
   "types_to_exclude": [
    "module",
    "function",
    "builtin_function_or_method",
    "instance",
    "_Feature"
   ],
   "window_display": false
  }
 },
 "nbformat": 4,
 "nbformat_minor": 5
}
