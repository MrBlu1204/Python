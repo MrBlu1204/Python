{
 "cells": [
  {
   "cell_type": "markdown",
   "id": "lonely-moisture",
   "metadata": {},
   "source": [
    "# T&T Lab 15 - 12th March\n",
    "## Manish Ranjan Behera(1828249)"
   ]
  },
  {
   "cell_type": "code",
   "execution_count": 1,
   "id": "backed-company",
   "metadata": {},
   "outputs": [],
   "source": [
    "import numpy as np"
   ]
  },
  {
   "cell_type": "markdown",
   "id": "fewer-publicity",
   "metadata": {},
   "source": [
    "### 1)WAP to find degree of a poynomial equation"
   ]
  },
  {
   "cell_type": "code",
   "execution_count": 7,
   "id": "silent-funds",
   "metadata": {},
   "outputs": [
    {
     "name": "stdout",
     "output_type": "stream",
     "text": [
      "Enter number of roots of the Polynomial Equation:5\n",
      ">>8\n",
      ">>3\n",
      ">>7\n",
      ">>2\n",
      ">>7\n",
      "Polynomial Equation:\n",
      "    5      4       3        2\n",
      "1 x - 27 x + 277 x - 1329 x + 2926 x - 2352\n",
      "\n",
      "Degree of the Polynomial Equation: 5\n"
     ]
    }
   ],
   "source": [
    "n=int(input(\"Enter number of roots of the Polynomial Equation:\"))\n",
    "roots=[int(input(\">>\")) for x in range(0,n)]\n",
    "p=np.poly1d(roots,True)\n",
    "print(\"Polynomial Equation:\\n\",p)\n",
    "print(\"\\nDegree of the Polynomial Equation:\",p.o)"
   ]
  },
  {
   "cell_type": "markdown",
   "id": "greek-japan",
   "metadata": {},
   "source": [
    "### 2)WAP to find roots of a Quadratic Equation"
   ]
  },
  {
   "cell_type": "code",
   "execution_count": 11,
   "id": "chronic-complexity",
   "metadata": {},
   "outputs": [
    {
     "name": "stdout",
     "output_type": "stream",
     "text": [
      "Enter Coefficient of Quadratic Equations in decreasing order of exponent:\n",
      ">>2\n",
      ">>5\n",
      ">>-3\n",
      "Quadratic Equation:\n",
      "    2\n",
      "2 x + 5 x - 3\n",
      "\n",
      "Roots of the Quadratic Equation: [-3.   0.5]\n"
     ]
    }
   ],
   "source": [
    "print(\"Enter Coefficient of Quadratic Equations in decreasing order of exponent:\")\n",
    "coeff=[int(input(\">>\")) for x in range(0,3)]\n",
    "p=np.poly1d(coeff,False)\n",
    "print(\"Quadratic Equation:\\n\",p)\n",
    "print(\"\\nRoots of the Quadratic Equation:\",p.r)"
   ]
  },
  {
   "cell_type": "markdown",
   "id": "isolated-senate",
   "metadata": {},
   "source": [
    "### 3)WAP to print diagonal elements of a matrix"
   ]
  },
  {
   "cell_type": "code",
   "execution_count": 14,
   "id": "metallic-projector",
   "metadata": {},
   "outputs": [
    {
     "name": "stdout",
     "output_type": "stream",
     "text": [
      "Matrix:\n",
      " [[1 2 3]\n",
      " [4 5 6]\n",
      " [7 8 9]]\n",
      "Diagonal of the Matrix: [[1 5 9]]\n"
     ]
    }
   ],
   "source": [
    "mat = np.matrix('[1, 2, 3; 4, 5, 6; 7, 8, 9]') \n",
    "print(\"Matrix:\\n\",mat)\n",
    "diag = mat.diagonal() \n",
    "   \n",
    "print(\"Diagonal of the Matrix:\",diag)"
   ]
  },
  {
   "cell_type": "markdown",
   "id": "automatic-teaching",
   "metadata": {},
   "source": [
    "### 4)WAP to find factorial of a number"
   ]
  },
  {
   "cell_type": "code",
   "execution_count": 13,
   "id": "naughty-avatar",
   "metadata": {},
   "outputs": [
    {
     "name": "stdout",
     "output_type": "stream",
     "text": [
      "Enter a Number:12\n",
      "12! = 479001600\n"
     ]
    }
   ],
   "source": [
    "num=int(input(\"Enter a Number:\"))\n",
    "fac=np.math.factorial(num)\n",
    "print(f'{num}! = {fac}')"
   ]
  },
  {
   "cell_type": "markdown",
   "id": "noted-spouse",
   "metadata": {},
   "source": [
    "### 5)WAP to find profit or loss for a given CP and SP"
   ]
  },
  {
   "cell_type": "code",
   "execution_count": 24,
   "id": "distributed-progress",
   "metadata": {},
   "outputs": [
    {
     "name": "stdout",
     "output_type": "stream",
     "text": [
      "Enter the Actual Cost of the Product: Rs.78\n",
      "Enter the Selling Price: Rs.113\n",
      "Total Profit = Rs.35.0\n"
     ]
    }
   ],
   "source": [
    "costPrice = float(input(\"Enter the Actual Cost of the Product: Rs.\"))\n",
    "sellingPrice = float(input(\"Enter the Selling Price: Rs.\"))\n",
    " \n",
    "if(costPrice > sellingPrice):\n",
    "    p = costPrice - sellingPrice\n",
    "    print(\"Total Loss Amount = Rs.{0}\".format(p))\n",
    "elif(sellingPrice > costPrice):\n",
    "    p = sellingPrice - costPrice\n",
    "    print(\"Total Profit = Rs.{0}\".format(p))\n",
    "else:\n",
    "    print(\"No Profit No Loss!!!\")"
   ]
  },
  {
   "cell_type": "markdown",
   "id": "outdoor-orange",
   "metadata": {},
   "source": [
    "### 6)WAP to sort the matrix row wise and Column wise"
   ]
  },
  {
   "cell_type": "code",
   "execution_count": 26,
   "id": "blond-inspiration",
   "metadata": {},
   "outputs": [
    {
     "name": "stdout",
     "output_type": "stream",
     "text": [
      "Matrix:\n",
      " [[1 4]\n",
      " [3 1]]\n",
      "\n",
      "Row Wise Sort:\n",
      " [[1 4]\n",
      " [1 3]]\n",
      "\n",
      "Column Wise Sort:\n",
      " [[1 3]\n",
      " [1 4]]\n"
     ]
    }
   ],
   "source": [
    "mat = np.array([[1,4], [3,1]])\n",
    "print(\"Matrix:\\n\",a)\n",
    "\n",
    "\n",
    "mat.sort(axis=1)\n",
    "print(\"\\nRow Wise Sort:\\n\",mat)\n",
    "\n",
    "mat.sort(axis=0)\n",
    "print(\"\\nColumn Wise Sort:\\n\",mat)"
   ]
  },
  {
   "cell_type": "code",
   "execution_count": null,
   "id": "proprietary-perry",
   "metadata": {},
   "outputs": [],
   "source": []
  }
 ],
 "metadata": {
  "kernelspec": {
   "display_name": "Python 3",
   "language": "python",
   "name": "python3"
  },
  "language_info": {
   "codemirror_mode": {
    "name": "ipython",
    "version": 3
   },
   "file_extension": ".py",
   "mimetype": "text/x-python",
   "name": "python",
   "nbconvert_exporter": "python",
   "pygments_lexer": "ipython3",
   "version": "3.8.5"
  },
  "varInspector": {
   "cols": {
    "lenName": 16,
    "lenType": 16,
    "lenVar": 40
   },
   "kernels_config": {
    "python": {
     "delete_cmd_postfix": "",
     "delete_cmd_prefix": "del ",
     "library": "var_list.py",
     "varRefreshCmd": "print(var_dic_list())"
    },
    "r": {
     "delete_cmd_postfix": ") ",
     "delete_cmd_prefix": "rm(",
     "library": "var_list.r",
     "varRefreshCmd": "cat(var_dic_list()) "
    }
   },
   "types_to_exclude": [
    "module",
    "function",
    "builtin_function_or_method",
    "instance",
    "_Feature"
   ],
   "window_display": false
  }
 },
 "nbformat": 4,
 "nbformat_minor": 5
}
